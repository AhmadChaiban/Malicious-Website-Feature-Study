{
 "cells": [
  {
   "cell_type": "markdown",
   "metadata": {},
   "source": [
    "# Dataset 20 Phase 1 ML"
   ]
  },
  {
   "cell_type": "code",
   "execution_count": 27,
   "metadata": {},
   "outputs": [
    {
     "name": "stderr",
     "output_type": "stream",
     "text": [
      "/Users/ahmadchaiban/opt/anaconda3/lib/python3.7/site-packages/tqdm/std.py:658: FutureWarning: The Panel class is removed from pandas. Accessing it from the top-level namespace will also be removed in the next version\n",
      "  from pandas import Panel\n"
     ]
    }
   ],
   "source": [
    "import pandas as pd \n",
    "import numpy as np\n",
    "import time\n",
    "import progressbar\n",
    "\n",
    "# Feature extraction libraries \n",
    "\n",
    "import geopy\n",
    "from geopy.geocoders import Nominatim\n",
    "\n",
    "from IPy import IP\n",
    "import re\n",
    "\n",
    "from selenium import webdriver\n",
    "from selenium.webdriver.chrome.options import Options\n",
    "\n",
    "from sklearn.model_selection import train_test_split\n",
    "from sklearn import svm\n",
    "from sklearn.metrics import confusion_matrix\n",
    "\n",
    "from tqdm._tqdm_notebook import tqdm_notebook\n",
    "tqdm_notebook.pandas()\n",
    "\n",
    "pd.options.display.max_columns = 500"
   ]
  },
  {
   "cell_type": "markdown",
   "metadata": {},
   "source": [
    "## Importing Dataset 20"
   ]
  },
  {
   "cell_type": "code",
   "execution_count": 173,
   "metadata": {},
   "outputs": [
    {
     "name": "stderr",
     "output_type": "stream",
     "text": [
      "Skipping line 951643: unexpected end of data\n"
     ]
    }
   ],
   "source": [
    "dataset_20_test = pd.read_csv('./datasets_for_project/dataset_20/\\\n",
    "Webpages_Classification_test_data.csv/Webpages_Classification_test_data.csv',  \n",
    "                              engine='python')\n",
    "\n",
    "dataset_20_train = pd.read_csv('./datasets_for_project/dataset_20/\\\n",
    "Webpages_Classification_train_data.csv/Webpages_Classification_train_data.csv',  \n",
    "                               engine='python',\n",
    "                               error_bad_lines=False)\n",
    "\n",
    "dataset_20 = pd.concat([dataset_20_train, dataset_20_test], axis=0).drop(columns=['Unnamed: 0'])"
   ]
  },
  {
   "cell_type": "code",
   "execution_count": 174,
   "metadata": {},
   "outputs": [],
   "source": [
    "index_array = pd.Series([i for i in range(len(dataset_20))])\n",
    "dataset_20 = dataset_20.set_index(index_array)"
   ]
  },
  {
   "cell_type": "code",
   "execution_count": 175,
   "metadata": {},
   "outputs": [
    {
     "name": "stdout",
     "output_type": "stream",
     "text": [
      "######### FEATURES #########\n",
      "Index(['url', 'url_len', 'ip_add', 'geo_loc', 'tld', 'who_is', 'https',\n",
      "       'js_len', 'js_obf_len', 'content', 'label'],\n",
      "      dtype='object')\n",
      "\n",
      "\n",
      "######### Dataset details #########\n",
      "Contains raw data\n",
      "Total number of samples = 1313575\n",
      "Malicious Samples = 29778\n",
      "Benign Samples = 1283797\n"
     ]
    },
    {
     "data": {
      "text/html": [
       "<div>\n",
       "<style scoped>\n",
       "    .dataframe tbody tr th:only-of-type {\n",
       "        vertical-align: middle;\n",
       "    }\n",
       "\n",
       "    .dataframe tbody tr th {\n",
       "        vertical-align: top;\n",
       "    }\n",
       "\n",
       "    .dataframe thead th {\n",
       "        text-align: right;\n",
       "    }\n",
       "</style>\n",
       "<table border=\"1\" class=\"dataframe\">\n",
       "  <thead>\n",
       "    <tr style=\"text-align: right;\">\n",
       "      <th></th>\n",
       "      <th>url</th>\n",
       "      <th>url_len</th>\n",
       "      <th>ip_add</th>\n",
       "      <th>geo_loc</th>\n",
       "      <th>tld</th>\n",
       "      <th>who_is</th>\n",
       "      <th>https</th>\n",
       "      <th>js_len</th>\n",
       "      <th>js_obf_len</th>\n",
       "      <th>content</th>\n",
       "      <th>label</th>\n",
       "    </tr>\n",
       "  </thead>\n",
       "  <tbody>\n",
       "    <tr>\n",
       "      <td>0</td>\n",
       "      <td>http://members.tripod.com/russiastation/</td>\n",
       "      <td>40</td>\n",
       "      <td>42.77.221.155</td>\n",
       "      <td>Taiwan</td>\n",
       "      <td>com</td>\n",
       "      <td>complete</td>\n",
       "      <td>yes</td>\n",
       "      <td>58.0</td>\n",
       "      <td>0.0</td>\n",
       "      <td>Named themselves charged particles in a manly ...</td>\n",
       "      <td>good</td>\n",
       "    </tr>\n",
       "    <tr>\n",
       "      <td>1</td>\n",
       "      <td>http://www.ddj.com/cpp/184403822</td>\n",
       "      <td>32</td>\n",
       "      <td>3.211.202.180</td>\n",
       "      <td>United States</td>\n",
       "      <td>com</td>\n",
       "      <td>complete</td>\n",
       "      <td>yes</td>\n",
       "      <td>52.5</td>\n",
       "      <td>0.0</td>\n",
       "      <td>And filipino field \\n \\n \\n \\n \\n \\n \\n \\n the...</td>\n",
       "      <td>good</td>\n",
       "    </tr>\n",
       "    <tr>\n",
       "      <td>2</td>\n",
       "      <td>http://www.naef-usa.com/</td>\n",
       "      <td>24</td>\n",
       "      <td>24.232.54.41</td>\n",
       "      <td>Argentina</td>\n",
       "      <td>com</td>\n",
       "      <td>complete</td>\n",
       "      <td>yes</td>\n",
       "      <td>103.5</td>\n",
       "      <td>0.0</td>\n",
       "      <td>Took in cognitivism, whose adherents argue for...</td>\n",
       "      <td>good</td>\n",
       "    </tr>\n",
       "    <tr>\n",
       "      <td>3</td>\n",
       "      <td>http://www.ff-b2b.de/</td>\n",
       "      <td>21</td>\n",
       "      <td>147.22.38.45</td>\n",
       "      <td>United States</td>\n",
       "      <td>de</td>\n",
       "      <td>incomplete</td>\n",
       "      <td>no</td>\n",
       "      <td>720.0</td>\n",
       "      <td>532.8</td>\n",
       "      <td>fire cumshot sodomize footaction tortur failed...</td>\n",
       "      <td>bad</td>\n",
       "    </tr>\n",
       "    <tr>\n",
       "      <td>4</td>\n",
       "      <td>http://us.imdb.com/title/tt0176269/</td>\n",
       "      <td>35</td>\n",
       "      <td>205.30.239.85</td>\n",
       "      <td>United States</td>\n",
       "      <td>com</td>\n",
       "      <td>complete</td>\n",
       "      <td>yes</td>\n",
       "      <td>46.5</td>\n",
       "      <td>0.0</td>\n",
       "      <td>Levant, also monsignor georges. In 1800, lists...</td>\n",
       "      <td>good</td>\n",
       "    </tr>\n",
       "  </tbody>\n",
       "</table>\n",
       "</div>"
      ],
      "text/plain": [
       "                                        url  url_len         ip_add  \\\n",
       "0  http://members.tripod.com/russiastation/       40  42.77.221.155   \n",
       "1          http://www.ddj.com/cpp/184403822       32  3.211.202.180   \n",
       "2                  http://www.naef-usa.com/       24   24.232.54.41   \n",
       "3                     http://www.ff-b2b.de/       21   147.22.38.45   \n",
       "4       http://us.imdb.com/title/tt0176269/       35  205.30.239.85   \n",
       "\n",
       "         geo_loc  tld      who_is https  js_len  js_obf_len  \\\n",
       "0         Taiwan  com    complete   yes    58.0         0.0   \n",
       "1  United States  com    complete   yes    52.5         0.0   \n",
       "2      Argentina  com    complete   yes   103.5         0.0   \n",
       "3  United States   de  incomplete    no   720.0       532.8   \n",
       "4  United States  com    complete   yes    46.5         0.0   \n",
       "\n",
       "                                             content label  \n",
       "0  Named themselves charged particles in a manly ...  good  \n",
       "1  And filipino field \\n \\n \\n \\n \\n \\n \\n \\n the...  good  \n",
       "2  Took in cognitivism, whose adherents argue for...  good  \n",
       "3  fire cumshot sodomize footaction tortur failed...   bad  \n",
       "4  Levant, also monsignor georges. In 1800, lists...  good  "
      ]
     },
     "execution_count": 175,
     "metadata": {},
     "output_type": "execute_result"
    }
   ],
   "source": [
    "print(\"######### FEATURES #########\")\n",
    "print(dataset_20.columns)\n",
    "print('\\n')\n",
    "print(\"######### Dataset details #########\")\n",
    "print('Contains raw data')\n",
    "print(f\"Total number of samples = {len(dataset_20)}\")\n",
    "print(f\"Malicious Samples = {len(dataset_20[dataset_20['label']=='bad'])}\")\n",
    "print(f\"Benign Samples = {len(dataset_20[dataset_20['label']=='good'])}\")\n",
    "dataset_20.head()"
   ]
  },
  {
   "cell_type": "markdown",
   "metadata": {},
   "source": [
    "## Converting locations to coordinates "
   ]
  },
  {
   "cell_type": "code",
   "execution_count": 176,
   "metadata": {},
   "outputs": [
    {
     "name": "stderr",
     "output_type": "stream",
     "text": [
      "100% (233 of 233) |######################| Elapsed Time: 0:01:55 Time:  0:01:55\n"
     ]
    }
   ],
   "source": [
    "def get_lat_long(unique_locations):\n",
    "    latitudes = []\n",
    "    longitudes = []\n",
    "    geolocator = Nominatim(user_agent=\"location_conversion\")\n",
    "    with progressbar.ProgressBar(max_value=len(unique_locations)) as bar:\n",
    "        for index, location in enumerate(unique_locations):\n",
    "            location_info = geolocator.geocode(location)\n",
    "            latitudes.append(location_info.latitude)\n",
    "            longitudes.append(location_info.longitude)\n",
    "            bar.update(index)\n",
    "    return unique_locations, latitudes, longitudes\n",
    "\n",
    "unique_locations, latitudes, longitudes = get_lat_long(dataset_20['geo_loc'].unique())"
   ]
  },
  {
   "cell_type": "code",
   "execution_count": 177,
   "metadata": {},
   "outputs": [
    {
     "name": "stderr",
     "output_type": "stream",
     "text": [
      "/Users/ahmadchaiban/opt/anaconda3/lib/python3.7/site-packages/ipykernel_launcher.py:7: SettingWithCopyWarning: \n",
      "A value is trying to be set on a copy of a slice from a DataFrame.\n",
      "Try using .loc[row_indexer,col_indexer] = value instead\n",
      "\n",
      "See the caveats in the documentation: http://pandas.pydata.org/pandas-docs/stable/user_guide/indexing.html#returning-a-view-versus-a-copy\n",
      "  import sys\n",
      "/Users/ahmadchaiban/opt/anaconda3/lib/python3.7/site-packages/ipykernel_launcher.py:8: SettingWithCopyWarning: \n",
      "A value is trying to be set on a copy of a slice from a DataFrame.\n",
      "Try using .loc[row_indexer,col_indexer] = value instead\n",
      "\n",
      "See the caveats in the documentation: http://pandas.pydata.org/pandas-docs/stable/user_guide/indexing.html#returning-a-view-versus-a-copy\n",
      "  \n",
      "100% (233 of 233) |######################| Elapsed Time: 0:00:00 ETA:  00:00:00\n"
     ]
    }
   ],
   "source": [
    "def latitude_long_to_df(unique_locations, latitudes, longitudes, dataset):\n",
    "    dataset_20['latitude'] = pd.Series(None)\n",
    "    dataset_20['longitude'] = pd.Series(None)\n",
    "    with progressbar.ProgressBar(max_value=len(unique_locations)) as bar:\n",
    "        for index, location in enumerate(unique_locations):\n",
    "            dataset_locs = dataset[dataset['geo_loc'] == location]\n",
    "            dataset_locs['latitude'] = latitudes[index]\n",
    "            dataset_locs['longitude'] = longitudes[index]\n",
    "            \n",
    "            dataset['latitude'].iloc[dataset_locs.index] = dataset_locs['latitude']\n",
    "            dataset['longitude'].iloc[dataset_locs.index] = dataset_locs['longitude']\n",
    "        return dataset\n",
    "\n",
    "dataset_20 = latitude_long_to_df(unique_locations, latitudes, longitudes, dataset_20)"
   ]
  },
  {
   "cell_type": "code",
   "execution_count": 178,
   "metadata": {},
   "outputs": [
    {
     "data": {
      "text/html": [
       "<div>\n",
       "<style scoped>\n",
       "    .dataframe tbody tr th:only-of-type {\n",
       "        vertical-align: middle;\n",
       "    }\n",
       "\n",
       "    .dataframe tbody tr th {\n",
       "        vertical-align: top;\n",
       "    }\n",
       "\n",
       "    .dataframe thead th {\n",
       "        text-align: right;\n",
       "    }\n",
       "</style>\n",
       "<table border=\"1\" class=\"dataframe\">\n",
       "  <thead>\n",
       "    <tr style=\"text-align: right;\">\n",
       "      <th></th>\n",
       "      <th>url</th>\n",
       "      <th>url_len</th>\n",
       "      <th>ip_add</th>\n",
       "      <th>tld</th>\n",
       "      <th>who_is</th>\n",
       "      <th>https</th>\n",
       "      <th>js_len</th>\n",
       "      <th>js_obf_len</th>\n",
       "      <th>content</th>\n",
       "      <th>label</th>\n",
       "      <th>latitude</th>\n",
       "      <th>longitude</th>\n",
       "    </tr>\n",
       "  </thead>\n",
       "  <tbody>\n",
       "    <tr>\n",
       "      <td>0</td>\n",
       "      <td>http://members.tripod.com/russiastation/</td>\n",
       "      <td>40</td>\n",
       "      <td>42.77.221.155</td>\n",
       "      <td>com</td>\n",
       "      <td>complete</td>\n",
       "      <td>yes</td>\n",
       "      <td>58.0</td>\n",
       "      <td>0.0</td>\n",
       "      <td>Named themselves charged particles in a manly ...</td>\n",
       "      <td>good</td>\n",
       "      <td>23.973937</td>\n",
       "      <td>120.982018</td>\n",
       "    </tr>\n",
       "    <tr>\n",
       "      <td>1</td>\n",
       "      <td>http://www.ddj.com/cpp/184403822</td>\n",
       "      <td>32</td>\n",
       "      <td>3.211.202.180</td>\n",
       "      <td>com</td>\n",
       "      <td>complete</td>\n",
       "      <td>yes</td>\n",
       "      <td>52.5</td>\n",
       "      <td>0.0</td>\n",
       "      <td>And filipino field \\n \\n \\n \\n \\n \\n \\n \\n the...</td>\n",
       "      <td>good</td>\n",
       "      <td>39.783730</td>\n",
       "      <td>-100.445882</td>\n",
       "    </tr>\n",
       "    <tr>\n",
       "      <td>2</td>\n",
       "      <td>http://www.naef-usa.com/</td>\n",
       "      <td>24</td>\n",
       "      <td>24.232.54.41</td>\n",
       "      <td>com</td>\n",
       "      <td>complete</td>\n",
       "      <td>yes</td>\n",
       "      <td>103.5</td>\n",
       "      <td>0.0</td>\n",
       "      <td>Took in cognitivism, whose adherents argue for...</td>\n",
       "      <td>good</td>\n",
       "      <td>-34.996496</td>\n",
       "      <td>-64.967282</td>\n",
       "    </tr>\n",
       "    <tr>\n",
       "      <td>3</td>\n",
       "      <td>http://www.ff-b2b.de/</td>\n",
       "      <td>21</td>\n",
       "      <td>147.22.38.45</td>\n",
       "      <td>de</td>\n",
       "      <td>incomplete</td>\n",
       "      <td>no</td>\n",
       "      <td>720.0</td>\n",
       "      <td>532.8</td>\n",
       "      <td>fire cumshot sodomize footaction tortur failed...</td>\n",
       "      <td>bad</td>\n",
       "      <td>39.783730</td>\n",
       "      <td>-100.445882</td>\n",
       "    </tr>\n",
       "    <tr>\n",
       "      <td>4</td>\n",
       "      <td>http://us.imdb.com/title/tt0176269/</td>\n",
       "      <td>35</td>\n",
       "      <td>205.30.239.85</td>\n",
       "      <td>com</td>\n",
       "      <td>complete</td>\n",
       "      <td>yes</td>\n",
       "      <td>46.5</td>\n",
       "      <td>0.0</td>\n",
       "      <td>Levant, also monsignor georges. In 1800, lists...</td>\n",
       "      <td>good</td>\n",
       "      <td>39.783730</td>\n",
       "      <td>-100.445882</td>\n",
       "    </tr>\n",
       "  </tbody>\n",
       "</table>\n",
       "</div>"
      ],
      "text/plain": [
       "                                        url  url_len         ip_add  tld  \\\n",
       "0  http://members.tripod.com/russiastation/       40  42.77.221.155  com   \n",
       "1          http://www.ddj.com/cpp/184403822       32  3.211.202.180  com   \n",
       "2                  http://www.naef-usa.com/       24   24.232.54.41  com   \n",
       "3                     http://www.ff-b2b.de/       21   147.22.38.45   de   \n",
       "4       http://us.imdb.com/title/tt0176269/       35  205.30.239.85  com   \n",
       "\n",
       "       who_is https  js_len  js_obf_len  \\\n",
       "0    complete   yes    58.0         0.0   \n",
       "1    complete   yes    52.5         0.0   \n",
       "2    complete   yes   103.5         0.0   \n",
       "3  incomplete    no   720.0       532.8   \n",
       "4    complete   yes    46.5         0.0   \n",
       "\n",
       "                                             content label   latitude  \\\n",
       "0  Named themselves charged particles in a manly ...  good  23.973937   \n",
       "1  And filipino field \\n \\n \\n \\n \\n \\n \\n \\n the...  good  39.783730   \n",
       "2  Took in cognitivism, whose adherents argue for...  good -34.996496   \n",
       "3  fire cumshot sodomize footaction tortur failed...   bad  39.783730   \n",
       "4  Levant, also monsignor georges. In 1800, lists...  good  39.783730   \n",
       "\n",
       "    longitude  \n",
       "0  120.982018  \n",
       "1 -100.445882  \n",
       "2  -64.967282  \n",
       "3 -100.445882  \n",
       "4 -100.445882  "
      ]
     },
     "execution_count": 178,
     "metadata": {},
     "output_type": "execute_result"
    }
   ],
   "source": [
    "dataset_20 = dataset_20.drop(columns=['geo_loc'])\n",
    "dataset_20.head()"
   ]
  },
  {
   "cell_type": "markdown",
   "metadata": {},
   "source": [
    "## Checking for existence of IP in URLs"
   ]
  },
  {
   "cell_type": "code",
   "execution_count": 179,
   "metadata": {},
   "outputs": [],
   "source": [
    "dataset_20['has_IP_in_URL'] = pd.Series([0 for i in range(len(dataset_20))])"
   ]
  },
  {
   "cell_type": "code",
   "execution_count": 180,
   "metadata": {},
   "outputs": [],
   "source": [
    "def check_if_URLS_have_ips(dataset):\n",
    "    with progressbar.ProgressBar(max_value=len(dataset)) as bar:\n",
    "        for i in dataset.index:\n",
    "            split_string = re.split('/|.com', dataset['url'].iloc[i])\n",
    "            for word in split_string:\n",
    "                try:\n",
    "                    IP(word)\n",
    "                    dataset.iloc[i]['has_IP_in_URL'] = 1\n",
    "                except:\n",
    "                    pass\n",
    "            bar.update(i)\n",
    "    return dataset"
   ]
  },
  {
   "cell_type": "code",
   "execution_count": 181,
   "metadata": {},
   "outputs": [
    {
     "name": "stderr",
     "output_type": "stream",
     "text": [
      "N/A% (0 of 1313575) |                    | Elapsed Time: 0:00:00 ETA:  --:--:--/Users/ahmadchaiban/opt/anaconda3/lib/python3.7/site-packages/ipykernel_launcher.py:8: SettingWithCopyWarning: \n",
      "A value is trying to be set on a copy of a slice from a DataFrame\n",
      "\n",
      "See the caveats in the documentation: http://pandas.pydata.org/pandas-docs/stable/user_guide/indexing.html#returning-a-view-versus-a-copy\n",
      "  \n",
      "100% (1313575 of 1313575) |##############| Elapsed Time: 0:01:13 Time:  0:01:13\n"
     ]
    }
   ],
   "source": [
    "dataset_20_tmp = check_if_URLS_have_ips(dataset_20)"
   ]
  },
  {
   "cell_type": "code",
   "execution_count": 182,
   "metadata": {},
   "outputs": [
    {
     "data": {
      "text/html": [
       "<div>\n",
       "<style scoped>\n",
       "    .dataframe tbody tr th:only-of-type {\n",
       "        vertical-align: middle;\n",
       "    }\n",
       "\n",
       "    .dataframe tbody tr th {\n",
       "        vertical-align: top;\n",
       "    }\n",
       "\n",
       "    .dataframe thead th {\n",
       "        text-align: right;\n",
       "    }\n",
       "</style>\n",
       "<table border=\"1\" class=\"dataframe\">\n",
       "  <thead>\n",
       "    <tr style=\"text-align: right;\">\n",
       "      <th></th>\n",
       "      <th>url</th>\n",
       "      <th>url_len</th>\n",
       "      <th>ip_add</th>\n",
       "      <th>tld</th>\n",
       "      <th>who_is</th>\n",
       "      <th>https</th>\n",
       "      <th>js_len</th>\n",
       "      <th>js_obf_len</th>\n",
       "      <th>content</th>\n",
       "      <th>label</th>\n",
       "      <th>latitude</th>\n",
       "      <th>longitude</th>\n",
       "      <th>has_IP_in_URL</th>\n",
       "    </tr>\n",
       "  </thead>\n",
       "  <tbody>\n",
       "    <tr>\n",
       "      <td>0</td>\n",
       "      <td>http://members.tripod.com/russiastation/</td>\n",
       "      <td>40</td>\n",
       "      <td>42.77.221.155</td>\n",
       "      <td>com</td>\n",
       "      <td>complete</td>\n",
       "      <td>yes</td>\n",
       "      <td>58.0</td>\n",
       "      <td>0.0</td>\n",
       "      <td>Named themselves charged particles in a manly ...</td>\n",
       "      <td>good</td>\n",
       "      <td>23.973937</td>\n",
       "      <td>120.982018</td>\n",
       "      <td>0</td>\n",
       "    </tr>\n",
       "    <tr>\n",
       "      <td>1</td>\n",
       "      <td>http://www.ddj.com/cpp/184403822</td>\n",
       "      <td>32</td>\n",
       "      <td>3.211.202.180</td>\n",
       "      <td>com</td>\n",
       "      <td>complete</td>\n",
       "      <td>yes</td>\n",
       "      <td>52.5</td>\n",
       "      <td>0.0</td>\n",
       "      <td>And filipino field \\n \\n \\n \\n \\n \\n \\n \\n the...</td>\n",
       "      <td>good</td>\n",
       "      <td>39.783730</td>\n",
       "      <td>-100.445882</td>\n",
       "      <td>0</td>\n",
       "    </tr>\n",
       "    <tr>\n",
       "      <td>2</td>\n",
       "      <td>http://www.naef-usa.com/</td>\n",
       "      <td>24</td>\n",
       "      <td>24.232.54.41</td>\n",
       "      <td>com</td>\n",
       "      <td>complete</td>\n",
       "      <td>yes</td>\n",
       "      <td>103.5</td>\n",
       "      <td>0.0</td>\n",
       "      <td>Took in cognitivism, whose adherents argue for...</td>\n",
       "      <td>good</td>\n",
       "      <td>-34.996496</td>\n",
       "      <td>-64.967282</td>\n",
       "      <td>0</td>\n",
       "    </tr>\n",
       "    <tr>\n",
       "      <td>3</td>\n",
       "      <td>http://www.ff-b2b.de/</td>\n",
       "      <td>21</td>\n",
       "      <td>147.22.38.45</td>\n",
       "      <td>de</td>\n",
       "      <td>incomplete</td>\n",
       "      <td>no</td>\n",
       "      <td>720.0</td>\n",
       "      <td>532.8</td>\n",
       "      <td>fire cumshot sodomize footaction tortur failed...</td>\n",
       "      <td>bad</td>\n",
       "      <td>39.783730</td>\n",
       "      <td>-100.445882</td>\n",
       "      <td>0</td>\n",
       "    </tr>\n",
       "    <tr>\n",
       "      <td>4</td>\n",
       "      <td>http://us.imdb.com/title/tt0176269/</td>\n",
       "      <td>35</td>\n",
       "      <td>205.30.239.85</td>\n",
       "      <td>com</td>\n",
       "      <td>complete</td>\n",
       "      <td>yes</td>\n",
       "      <td>46.5</td>\n",
       "      <td>0.0</td>\n",
       "      <td>Levant, also monsignor georges. In 1800, lists...</td>\n",
       "      <td>good</td>\n",
       "      <td>39.783730</td>\n",
       "      <td>-100.445882</td>\n",
       "      <td>0</td>\n",
       "    </tr>\n",
       "  </tbody>\n",
       "</table>\n",
       "</div>"
      ],
      "text/plain": [
       "                                        url  url_len         ip_add  tld  \\\n",
       "0  http://members.tripod.com/russiastation/       40  42.77.221.155  com   \n",
       "1          http://www.ddj.com/cpp/184403822       32  3.211.202.180  com   \n",
       "2                  http://www.naef-usa.com/       24   24.232.54.41  com   \n",
       "3                     http://www.ff-b2b.de/       21   147.22.38.45   de   \n",
       "4       http://us.imdb.com/title/tt0176269/       35  205.30.239.85  com   \n",
       "\n",
       "       who_is https  js_len  js_obf_len  \\\n",
       "0    complete   yes    58.0         0.0   \n",
       "1    complete   yes    52.5         0.0   \n",
       "2    complete   yes   103.5         0.0   \n",
       "3  incomplete    no   720.0       532.8   \n",
       "4    complete   yes    46.5         0.0   \n",
       "\n",
       "                                             content label   latitude  \\\n",
       "0  Named themselves charged particles in a manly ...  good  23.973937   \n",
       "1  And filipino field \\n \\n \\n \\n \\n \\n \\n \\n the...  good  39.783730   \n",
       "2  Took in cognitivism, whose adherents argue for...  good -34.996496   \n",
       "3  fire cumshot sodomize footaction tortur failed...   bad  39.783730   \n",
       "4  Levant, also monsignor georges. In 1800, lists...  good  39.783730   \n",
       "\n",
       "    longitude  has_IP_in_URL  \n",
       "0  120.982018              0  \n",
       "1 -100.445882              0  \n",
       "2  -64.967282              0  \n",
       "3 -100.445882              0  \n",
       "4 -100.445882              0  "
      ]
     },
     "execution_count": 182,
     "metadata": {},
     "output_type": "execute_result"
    }
   ],
   "source": [
    "dataset_20.head()"
   ]
  },
  {
   "cell_type": "code",
   "execution_count": 183,
   "metadata": {},
   "outputs": [
    {
     "data": {
      "text/plain": [
       "array([0])"
      ]
     },
     "execution_count": 183,
     "metadata": {},
     "output_type": "execute_result"
    }
   ],
   "source": [
    "dataset_20['has_IP_in_URL'].unique()"
   ]
  },
  {
   "cell_type": "markdown",
   "metadata": {},
   "source": [
    "**None of these datasets have IP addresses in the URLs, might be a good idea to add some at some point**"
   ]
  },
  {
   "cell_type": "markdown",
   "metadata": {},
   "source": [
    "## Number of subdomains"
   ]
  },
  {
   "cell_type": "code",
   "execution_count": 184,
   "metadata": {},
   "outputs": [],
   "source": [
    "dataset_20['number_subdomains'] = pd.Series([0 for i in dataset_20.index])"
   ]
  },
  {
   "cell_type": "code",
   "execution_count": 185,
   "metadata": {},
   "outputs": [],
   "source": [
    "def get_number_subdomains(url_string):\n",
    "    removed_http = url_string.replace('http://', '').replace('https://', '')\n",
    "    sub_array = removed_http.split('/')[0].replace('.com','').split('.')\n",
    "    return len(sub_array) - 1"
   ]
  },
  {
   "cell_type": "code",
   "execution_count": 186,
   "metadata": {},
   "outputs": [
    {
     "data": {
      "application/vnd.jupyter.widget-view+json": {
       "model_id": "d935c3bad81a40baa54706462d933b62",
       "version_major": 2,
       "version_minor": 0
      },
      "text/plain": [
       "HBox(children=(FloatProgress(value=0.0, max=1313575.0), HTML(value='')))"
      ]
     },
     "metadata": {},
     "output_type": "display_data"
    },
    {
     "name": "stdout",
     "output_type": "stream",
     "text": [
      "\n"
     ]
    }
   ],
   "source": [
    "dataset_20['number_subdomains'] = dataset_20['url'].progress_apply(lambda x: get_number_subdomains(x))"
   ]
  },
  {
   "cell_type": "code",
   "execution_count": 187,
   "metadata": {},
   "outputs": [
    {
     "data": {
      "text/html": [
       "<div>\n",
       "<style scoped>\n",
       "    .dataframe tbody tr th:only-of-type {\n",
       "        vertical-align: middle;\n",
       "    }\n",
       "\n",
       "    .dataframe tbody tr th {\n",
       "        vertical-align: top;\n",
       "    }\n",
       "\n",
       "    .dataframe thead th {\n",
       "        text-align: right;\n",
       "    }\n",
       "</style>\n",
       "<table border=\"1\" class=\"dataframe\">\n",
       "  <thead>\n",
       "    <tr style=\"text-align: right;\">\n",
       "      <th></th>\n",
       "      <th>url</th>\n",
       "      <th>url_len</th>\n",
       "      <th>ip_add</th>\n",
       "      <th>tld</th>\n",
       "      <th>who_is</th>\n",
       "      <th>https</th>\n",
       "      <th>js_len</th>\n",
       "      <th>js_obf_len</th>\n",
       "      <th>content</th>\n",
       "      <th>label</th>\n",
       "      <th>latitude</th>\n",
       "      <th>longitude</th>\n",
       "      <th>has_IP_in_URL</th>\n",
       "      <th>number_subdomains</th>\n",
       "    </tr>\n",
       "  </thead>\n",
       "  <tbody>\n",
       "    <tr>\n",
       "      <td>0</td>\n",
       "      <td>http://members.tripod.com/russiastation/</td>\n",
       "      <td>40</td>\n",
       "      <td>42.77.221.155</td>\n",
       "      <td>com</td>\n",
       "      <td>complete</td>\n",
       "      <td>yes</td>\n",
       "      <td>58.0</td>\n",
       "      <td>0.0</td>\n",
       "      <td>Named themselves charged particles in a manly ...</td>\n",
       "      <td>good</td>\n",
       "      <td>23.973937</td>\n",
       "      <td>120.982018</td>\n",
       "      <td>0</td>\n",
       "      <td>1</td>\n",
       "    </tr>\n",
       "    <tr>\n",
       "      <td>1</td>\n",
       "      <td>http://www.ddj.com/cpp/184403822</td>\n",
       "      <td>32</td>\n",
       "      <td>3.211.202.180</td>\n",
       "      <td>com</td>\n",
       "      <td>complete</td>\n",
       "      <td>yes</td>\n",
       "      <td>52.5</td>\n",
       "      <td>0.0</td>\n",
       "      <td>And filipino field \\n \\n \\n \\n \\n \\n \\n \\n the...</td>\n",
       "      <td>good</td>\n",
       "      <td>39.783730</td>\n",
       "      <td>-100.445882</td>\n",
       "      <td>0</td>\n",
       "      <td>1</td>\n",
       "    </tr>\n",
       "    <tr>\n",
       "      <td>2</td>\n",
       "      <td>http://www.naef-usa.com/</td>\n",
       "      <td>24</td>\n",
       "      <td>24.232.54.41</td>\n",
       "      <td>com</td>\n",
       "      <td>complete</td>\n",
       "      <td>yes</td>\n",
       "      <td>103.5</td>\n",
       "      <td>0.0</td>\n",
       "      <td>Took in cognitivism, whose adherents argue for...</td>\n",
       "      <td>good</td>\n",
       "      <td>-34.996496</td>\n",
       "      <td>-64.967282</td>\n",
       "      <td>0</td>\n",
       "      <td>1</td>\n",
       "    </tr>\n",
       "    <tr>\n",
       "      <td>3</td>\n",
       "      <td>http://www.ff-b2b.de/</td>\n",
       "      <td>21</td>\n",
       "      <td>147.22.38.45</td>\n",
       "      <td>de</td>\n",
       "      <td>incomplete</td>\n",
       "      <td>no</td>\n",
       "      <td>720.0</td>\n",
       "      <td>532.8</td>\n",
       "      <td>fire cumshot sodomize footaction tortur failed...</td>\n",
       "      <td>bad</td>\n",
       "      <td>39.783730</td>\n",
       "      <td>-100.445882</td>\n",
       "      <td>0</td>\n",
       "      <td>2</td>\n",
       "    </tr>\n",
       "    <tr>\n",
       "      <td>4</td>\n",
       "      <td>http://us.imdb.com/title/tt0176269/</td>\n",
       "      <td>35</td>\n",
       "      <td>205.30.239.85</td>\n",
       "      <td>com</td>\n",
       "      <td>complete</td>\n",
       "      <td>yes</td>\n",
       "      <td>46.5</td>\n",
       "      <td>0.0</td>\n",
       "      <td>Levant, also monsignor georges. In 1800, lists...</td>\n",
       "      <td>good</td>\n",
       "      <td>39.783730</td>\n",
       "      <td>-100.445882</td>\n",
       "      <td>0</td>\n",
       "      <td>1</td>\n",
       "    </tr>\n",
       "  </tbody>\n",
       "</table>\n",
       "</div>"
      ],
      "text/plain": [
       "                                        url  url_len         ip_add  tld  \\\n",
       "0  http://members.tripod.com/russiastation/       40  42.77.221.155  com   \n",
       "1          http://www.ddj.com/cpp/184403822       32  3.211.202.180  com   \n",
       "2                  http://www.naef-usa.com/       24   24.232.54.41  com   \n",
       "3                     http://www.ff-b2b.de/       21   147.22.38.45   de   \n",
       "4       http://us.imdb.com/title/tt0176269/       35  205.30.239.85  com   \n",
       "\n",
       "       who_is https  js_len  js_obf_len  \\\n",
       "0    complete   yes    58.0         0.0   \n",
       "1    complete   yes    52.5         0.0   \n",
       "2    complete   yes   103.5         0.0   \n",
       "3  incomplete    no   720.0       532.8   \n",
       "4    complete   yes    46.5         0.0   \n",
       "\n",
       "                                             content label   latitude  \\\n",
       "0  Named themselves charged particles in a manly ...  good  23.973937   \n",
       "1  And filipino field \\n \\n \\n \\n \\n \\n \\n \\n the...  good  39.783730   \n",
       "2  Took in cognitivism, whose adherents argue for...  good -34.996496   \n",
       "3  fire cumshot sodomize footaction tortur failed...   bad  39.783730   \n",
       "4  Levant, also monsignor georges. In 1800, lists...  good  39.783730   \n",
       "\n",
       "    longitude  has_IP_in_URL  number_subdomains  \n",
       "0  120.982018              0                  1  \n",
       "1 -100.445882              0                  1  \n",
       "2  -64.967282              0                  1  \n",
       "3 -100.445882              0                  2  \n",
       "4 -100.445882              0                  1  "
      ]
     },
     "execution_count": 187,
     "metadata": {},
     "output_type": "execute_result"
    }
   ],
   "source": [
    "dataset_20.head()"
   ]
  },
  {
   "cell_type": "code",
   "execution_count": 188,
   "metadata": {},
   "outputs": [
    {
     "data": {
      "text/plain": [
       "array([1, 2, 0, 3, 4, 5, 6, 7])"
      ]
     },
     "execution_count": 188,
     "metadata": {},
     "output_type": "execute_result"
    }
   ],
   "source": [
    "dataset_20['number_subdomains'].unique()"
   ]
  },
  {
   "cell_type": "markdown",
   "metadata": {},
   "source": [
    "**Seems to be a good range of subdomains** "
   ]
  },
  {
   "cell_type": "markdown",
   "metadata": {},
   "source": [
    "## Hostname"
   ]
  },
  {
   "cell_type": "code",
   "execution_count": 189,
   "metadata": {},
   "outputs": [
    {
     "data": {
      "application/vnd.jupyter.widget-view+json": {
       "model_id": "8573e222eae04a25965c5fa53b3a29a7",
       "version_major": 2,
       "version_minor": 0
      },
      "text/plain": [
       "HBox(children=(FloatProgress(value=0.0, max=1313575.0), HTML(value='')))"
      ]
     },
     "metadata": {},
     "output_type": "display_data"
    },
    {
     "name": "stdout",
     "output_type": "stream",
     "text": [
      "\n"
     ]
    }
   ],
   "source": [
    "def get_hostname(url):\n",
    "    parsed_url = urllib.parse.urlparse(url)\n",
    "    return parsed_url.netloc\n",
    "\n",
    "dataset_20['hostname'] = dataset_20['url'].progress_apply(lambda x: get_hostname(x))"
   ]
  },
  {
   "cell_type": "markdown",
   "metadata": {},
   "source": [
    "## Length of Hostname"
   ]
  },
  {
   "cell_type": "code",
   "execution_count": 190,
   "metadata": {},
   "outputs": [],
   "source": [
    "def get_length_of_hostname(url):\n",
    "    parsed_url = urllib.parse.urlparse(url)\n",
    "    return len(parsed_url.netloc)"
   ]
  },
  {
   "cell_type": "code",
   "execution_count": 191,
   "metadata": {},
   "outputs": [
    {
     "data": {
      "application/vnd.jupyter.widget-view+json": {
       "model_id": "bc3e401f15bd46f4975d981a7dedf2e1",
       "version_major": 2,
       "version_minor": 0
      },
      "text/plain": [
       "HBox(children=(FloatProgress(value=0.0, max=1313575.0), HTML(value='')))"
      ]
     },
     "metadata": {},
     "output_type": "display_data"
    },
    {
     "name": "stdout",
     "output_type": "stream",
     "text": [
      "\n"
     ]
    }
   ],
   "source": [
    "dataset_20['length_hostname'] = dataset_20['url'].progress_apply(lambda x: get_length_of_hostname(x))"
   ]
  },
  {
   "cell_type": "code",
   "execution_count": 192,
   "metadata": {},
   "outputs": [
    {
     "data": {
      "text/html": [
       "<div>\n",
       "<style scoped>\n",
       "    .dataframe tbody tr th:only-of-type {\n",
       "        vertical-align: middle;\n",
       "    }\n",
       "\n",
       "    .dataframe tbody tr th {\n",
       "        vertical-align: top;\n",
       "    }\n",
       "\n",
       "    .dataframe thead th {\n",
       "        text-align: right;\n",
       "    }\n",
       "</style>\n",
       "<table border=\"1\" class=\"dataframe\">\n",
       "  <thead>\n",
       "    <tr style=\"text-align: right;\">\n",
       "      <th></th>\n",
       "      <th>url</th>\n",
       "      <th>url_len</th>\n",
       "      <th>ip_add</th>\n",
       "      <th>tld</th>\n",
       "      <th>who_is</th>\n",
       "      <th>https</th>\n",
       "      <th>js_len</th>\n",
       "      <th>js_obf_len</th>\n",
       "      <th>content</th>\n",
       "      <th>label</th>\n",
       "      <th>latitude</th>\n",
       "      <th>longitude</th>\n",
       "      <th>has_IP_in_URL</th>\n",
       "      <th>number_subdomains</th>\n",
       "      <th>hostname</th>\n",
       "      <th>length_hostname</th>\n",
       "    </tr>\n",
       "  </thead>\n",
       "  <tbody>\n",
       "    <tr>\n",
       "      <td>0</td>\n",
       "      <td>http://members.tripod.com/russiastation/</td>\n",
       "      <td>40</td>\n",
       "      <td>42.77.221.155</td>\n",
       "      <td>com</td>\n",
       "      <td>complete</td>\n",
       "      <td>yes</td>\n",
       "      <td>58.0</td>\n",
       "      <td>0.0</td>\n",
       "      <td>Named themselves charged particles in a manly ...</td>\n",
       "      <td>good</td>\n",
       "      <td>23.973937</td>\n",
       "      <td>120.982018</td>\n",
       "      <td>0</td>\n",
       "      <td>1</td>\n",
       "      <td>members.tripod.com</td>\n",
       "      <td>18</td>\n",
       "    </tr>\n",
       "  </tbody>\n",
       "</table>\n",
       "</div>"
      ],
      "text/plain": [
       "                                        url  url_len         ip_add  tld  \\\n",
       "0  http://members.tripod.com/russiastation/       40  42.77.221.155  com   \n",
       "\n",
       "     who_is https  js_len  js_obf_len  \\\n",
       "0  complete   yes    58.0         0.0   \n",
       "\n",
       "                                             content label   latitude  \\\n",
       "0  Named themselves charged particles in a manly ...  good  23.973937   \n",
       "\n",
       "    longitude  has_IP_in_URL  number_subdomains            hostname  \\\n",
       "0  120.982018              0                  1  members.tripod.com   \n",
       "\n",
       "   length_hostname  \n",
       "0               18  "
      ]
     },
     "execution_count": 192,
     "metadata": {},
     "output_type": "execute_result"
    }
   ],
   "source": [
    "dataset_20.head(1)"
   ]
  },
  {
   "cell_type": "markdown",
   "metadata": {},
   "source": [
    "## Ratio of digits in URL"
   ]
  },
  {
   "cell_type": "code",
   "execution_count": 201,
   "metadata": {},
   "outputs": [
    {
     "data": {
      "application/vnd.jupyter.widget-view+json": {
       "model_id": "4c231c985a9b4f67ab2d1c6c124ecddc",
       "version_major": 2,
       "version_minor": 0
      },
      "text/plain": [
       "HBox(children=(FloatProgress(value=0.0, max=1313575.0), HTML(value='')))"
      ]
     },
     "metadata": {},
     "output_type": "display_data"
    },
    {
     "name": "stdout",
     "output_type": "stream",
     "text": [
      "\n"
     ]
    },
    {
     "data": {
      "text/html": [
       "<div>\n",
       "<style scoped>\n",
       "    .dataframe tbody tr th:only-of-type {\n",
       "        vertical-align: middle;\n",
       "    }\n",
       "\n",
       "    .dataframe tbody tr th {\n",
       "        vertical-align: top;\n",
       "    }\n",
       "\n",
       "    .dataframe thead th {\n",
       "        text-align: right;\n",
       "    }\n",
       "</style>\n",
       "<table border=\"1\" class=\"dataframe\">\n",
       "  <thead>\n",
       "    <tr style=\"text-align: right;\">\n",
       "      <th></th>\n",
       "      <th>url</th>\n",
       "      <th>url_len</th>\n",
       "      <th>ip_add</th>\n",
       "      <th>tld</th>\n",
       "      <th>who_is</th>\n",
       "      <th>https</th>\n",
       "      <th>js_len</th>\n",
       "      <th>js_obf_len</th>\n",
       "      <th>content</th>\n",
       "      <th>label</th>\n",
       "      <th>latitude</th>\n",
       "      <th>longitude</th>\n",
       "      <th>has_IP_in_URL</th>\n",
       "      <th>number_subdomains</th>\n",
       "      <th>hostname</th>\n",
       "      <th>length_hostname</th>\n",
       "      <th>ratio_digits_url</th>\n",
       "      <th>having_@_in_url</th>\n",
       "      <th>ratio_digits_hostname</th>\n",
       "      <th>number_underscores</th>\n",
       "    </tr>\n",
       "  </thead>\n",
       "  <tbody>\n",
       "    <tr>\n",
       "      <td>0</td>\n",
       "      <td>http://members.tripod.com/russiastation/</td>\n",
       "      <td>40</td>\n",
       "      <td>42.77.221.155</td>\n",
       "      <td>com</td>\n",
       "      <td>complete</td>\n",
       "      <td>yes</td>\n",
       "      <td>58.0</td>\n",
       "      <td>0.0</td>\n",
       "      <td>Named themselves charged particles in a manly ...</td>\n",
       "      <td>good</td>\n",
       "      <td>23.973937</td>\n",
       "      <td>120.982018</td>\n",
       "      <td>0</td>\n",
       "      <td>1</td>\n",
       "      <td>members.tripod.com</td>\n",
       "      <td>18</td>\n",
       "      <td>0.0</td>\n",
       "      <td>0</td>\n",
       "      <td>0.5</td>\n",
       "      <td>0</td>\n",
       "    </tr>\n",
       "  </tbody>\n",
       "</table>\n",
       "</div>"
      ],
      "text/plain": [
       "                                        url  url_len         ip_add  tld  \\\n",
       "0  http://members.tripod.com/russiastation/       40  42.77.221.155  com   \n",
       "\n",
       "     who_is https  js_len  js_obf_len  \\\n",
       "0  complete   yes    58.0         0.0   \n",
       "\n",
       "                                             content label   latitude  \\\n",
       "0  Named themselves charged particles in a manly ...  good  23.973937   \n",
       "\n",
       "    longitude  has_IP_in_URL  number_subdomains            hostname  \\\n",
       "0  120.982018              0                  1  members.tripod.com   \n",
       "\n",
       "   length_hostname  ratio_digits_url  having_@_in_url  ratio_digits_hostname  \\\n",
       "0               18               0.0                0                    0.5   \n",
       "\n",
       "   number_underscores  \n",
       "0                   0  "
      ]
     },
     "execution_count": 201,
     "metadata": {},
     "output_type": "execute_result"
    }
   ],
   "source": [
    "def get_ratio_digits_url(url):\n",
    "    try: \n",
    "        return sum(c.isdigit() for c in url)/len(url)\n",
    "    except:\n",
    "        return 0\n",
    "\n",
    "dataset_20['ratio_digits_url'] = dataset_20['url'].progress_apply(lambda x: get_ratio_digits_url(x))\n",
    "dataset_20.head(1)"
   ]
  },
  {
   "cell_type": "markdown",
   "metadata": {},
   "source": [
    "## Having @ Symbol"
   ]
  },
  {
   "cell_type": "code",
   "execution_count": 206,
   "metadata": {},
   "outputs": [
    {
     "data": {
      "application/vnd.jupyter.widget-view+json": {
       "model_id": "349fc9d60eb947778a2cdb112ba1f1d5",
       "version_major": 2,
       "version_minor": 0
      },
      "text/plain": [
       "HBox(children=(FloatProgress(value=0.0, max=1313575.0), HTML(value='')))"
      ]
     },
     "metadata": {},
     "output_type": "display_data"
    },
    {
     "name": "stdout",
     "output_type": "stream",
     "text": [
      "\n"
     ]
    },
    {
     "data": {
      "text/html": [
       "<div>\n",
       "<style scoped>\n",
       "    .dataframe tbody tr th:only-of-type {\n",
       "        vertical-align: middle;\n",
       "    }\n",
       "\n",
       "    .dataframe tbody tr th {\n",
       "        vertical-align: top;\n",
       "    }\n",
       "\n",
       "    .dataframe thead th {\n",
       "        text-align: right;\n",
       "    }\n",
       "</style>\n",
       "<table border=\"1\" class=\"dataframe\">\n",
       "  <thead>\n",
       "    <tr style=\"text-align: right;\">\n",
       "      <th></th>\n",
       "      <th>url</th>\n",
       "      <th>url_len</th>\n",
       "      <th>ip_add</th>\n",
       "      <th>tld</th>\n",
       "      <th>who_is</th>\n",
       "      <th>https</th>\n",
       "      <th>js_len</th>\n",
       "      <th>js_obf_len</th>\n",
       "      <th>content</th>\n",
       "      <th>label</th>\n",
       "      <th>latitude</th>\n",
       "      <th>longitude</th>\n",
       "      <th>has_IP_in_URL</th>\n",
       "      <th>number_subdomains</th>\n",
       "      <th>hostname</th>\n",
       "      <th>length_hostname</th>\n",
       "      <th>ratio_digits_url</th>\n",
       "      <th>having_@_in_url</th>\n",
       "      <th>ratio_digits_hostname</th>\n",
       "      <th>number_underscores</th>\n",
       "    </tr>\n",
       "  </thead>\n",
       "  <tbody>\n",
       "    <tr>\n",
       "      <td>0</td>\n",
       "      <td>http://members.tripod.com/russiastation/</td>\n",
       "      <td>40</td>\n",
       "      <td>42.77.221.155</td>\n",
       "      <td>com</td>\n",
       "      <td>complete</td>\n",
       "      <td>yes</td>\n",
       "      <td>58.0</td>\n",
       "      <td>0.0</td>\n",
       "      <td>Named themselves charged particles in a manly ...</td>\n",
       "      <td>good</td>\n",
       "      <td>23.973937</td>\n",
       "      <td>120.982018</td>\n",
       "      <td>0</td>\n",
       "      <td>1</td>\n",
       "      <td>members.tripod.com</td>\n",
       "      <td>18</td>\n",
       "      <td>0.0</td>\n",
       "      <td>0</td>\n",
       "      <td>0.0</td>\n",
       "      <td>0</td>\n",
       "    </tr>\n",
       "  </tbody>\n",
       "</table>\n",
       "</div>"
      ],
      "text/plain": [
       "                                        url  url_len         ip_add  tld  \\\n",
       "0  http://members.tripod.com/russiastation/       40  42.77.221.155  com   \n",
       "\n",
       "     who_is https  js_len  js_obf_len  \\\n",
       "0  complete   yes    58.0         0.0   \n",
       "\n",
       "                                             content label   latitude  \\\n",
       "0  Named themselves charged particles in a manly ...  good  23.973937   \n",
       "\n",
       "    longitude  has_IP_in_URL  number_subdomains            hostname  \\\n",
       "0  120.982018              0                  1  members.tripod.com   \n",
       "\n",
       "   length_hostname  ratio_digits_url  having_@_in_url  ratio_digits_hostname  \\\n",
       "0               18               0.0                0                    0.0   \n",
       "\n",
       "   number_underscores  \n",
       "0                   0  "
      ]
     },
     "execution_count": 206,
     "metadata": {},
     "output_type": "execute_result"
    }
   ],
   "source": [
    "def check_at_symbol(url):\n",
    "    if '@' in url:\n",
    "        return 1\n",
    "    return 0\n",
    "\n",
    "dataset_20['having_@_in_url'] = dataset_20['url'].progress_apply(lambda x: check_at_symbol(x))\n",
    "dataset_20.head(1)"
   ]
  },
  {
   "cell_type": "code",
   "execution_count": 207,
   "metadata": {},
   "outputs": [
    {
     "data": {
      "text/plain": [
       "0    1313214\n",
       "1        361\n",
       "Name: having_@_in_url, dtype: int64"
      ]
     },
     "execution_count": 207,
     "metadata": {},
     "output_type": "execute_result"
    }
   ],
   "source": [
    "dataset_20['having_@_in_url'].value_counts()"
   ]
  },
  {
   "cell_type": "markdown",
   "metadata": {},
   "source": [
    "## Ratio of digits in Hostname"
   ]
  },
  {
   "cell_type": "code",
   "execution_count": 208,
   "metadata": {},
   "outputs": [
    {
     "data": {
      "application/vnd.jupyter.widget-view+json": {
       "model_id": "522c70e34abc48d885b9faab35f70f6f",
       "version_major": 2,
       "version_minor": 0
      },
      "text/plain": [
       "HBox(children=(FloatProgress(value=0.0, max=1313575.0), HTML(value='')))"
      ]
     },
     "metadata": {},
     "output_type": "display_data"
    },
    {
     "name": "stdout",
     "output_type": "stream",
     "text": [
      "\n"
     ]
    },
    {
     "data": {
      "text/html": [
       "<div>\n",
       "<style scoped>\n",
       "    .dataframe tbody tr th:only-of-type {\n",
       "        vertical-align: middle;\n",
       "    }\n",
       "\n",
       "    .dataframe tbody tr th {\n",
       "        vertical-align: top;\n",
       "    }\n",
       "\n",
       "    .dataframe thead th {\n",
       "        text-align: right;\n",
       "    }\n",
       "</style>\n",
       "<table border=\"1\" class=\"dataframe\">\n",
       "  <thead>\n",
       "    <tr style=\"text-align: right;\">\n",
       "      <th></th>\n",
       "      <th>url</th>\n",
       "      <th>url_len</th>\n",
       "      <th>ip_add</th>\n",
       "      <th>tld</th>\n",
       "      <th>who_is</th>\n",
       "      <th>https</th>\n",
       "      <th>js_len</th>\n",
       "      <th>js_obf_len</th>\n",
       "      <th>content</th>\n",
       "      <th>label</th>\n",
       "      <th>latitude</th>\n",
       "      <th>longitude</th>\n",
       "      <th>has_IP_in_URL</th>\n",
       "      <th>number_subdomains</th>\n",
       "      <th>hostname</th>\n",
       "      <th>length_hostname</th>\n",
       "      <th>ratio_digits_url</th>\n",
       "      <th>having_@_in_url</th>\n",
       "      <th>ratio_digits_hostname</th>\n",
       "      <th>number_underscores</th>\n",
       "    </tr>\n",
       "  </thead>\n",
       "  <tbody>\n",
       "    <tr>\n",
       "      <td>0</td>\n",
       "      <td>http://members.tripod.com/russiastation/</td>\n",
       "      <td>40</td>\n",
       "      <td>42.77.221.155</td>\n",
       "      <td>com</td>\n",
       "      <td>complete</td>\n",
       "      <td>yes</td>\n",
       "      <td>58.0</td>\n",
       "      <td>0.0</td>\n",
       "      <td>Named themselves charged particles in a manly ...</td>\n",
       "      <td>good</td>\n",
       "      <td>23.973937</td>\n",
       "      <td>120.982018</td>\n",
       "      <td>0</td>\n",
       "      <td>1</td>\n",
       "      <td>members.tripod.com</td>\n",
       "      <td>18</td>\n",
       "      <td>0.0</td>\n",
       "      <td>0</td>\n",
       "      <td>0.0</td>\n",
       "      <td>0</td>\n",
       "    </tr>\n",
       "  </tbody>\n",
       "</table>\n",
       "</div>"
      ],
      "text/plain": [
       "                                        url  url_len         ip_add  tld  \\\n",
       "0  http://members.tripod.com/russiastation/       40  42.77.221.155  com   \n",
       "\n",
       "     who_is https  js_len  js_obf_len  \\\n",
       "0  complete   yes    58.0         0.0   \n",
       "\n",
       "                                             content label   latitude  \\\n",
       "0  Named themselves charged particles in a manly ...  good  23.973937   \n",
       "\n",
       "    longitude  has_IP_in_URL  number_subdomains            hostname  \\\n",
       "0  120.982018              0                  1  members.tripod.com   \n",
       "\n",
       "   length_hostname  ratio_digits_url  having_@_in_url  ratio_digits_hostname  \\\n",
       "0               18               0.0                0                    0.0   \n",
       "\n",
       "   number_underscores  \n",
       "0                   0  "
      ]
     },
     "execution_count": 208,
     "metadata": {},
     "output_type": "execute_result"
    }
   ],
   "source": [
    "dataset_20['ratio_digits_hostname'] = dataset_20['hostname'].progress_apply(lambda x: get_ratio_digits_url(x))\n",
    "dataset_20.head(1)"
   ]
  },
  {
   "cell_type": "markdown",
   "metadata": {},
   "source": [
    "## Number of underscores"
   ]
  },
  {
   "cell_type": "code",
   "execution_count": 209,
   "metadata": {},
   "outputs": [
    {
     "data": {
      "application/vnd.jupyter.widget-view+json": {
       "model_id": "31c8dcdd98ef40bfa8facacce21ac3f1",
       "version_major": 2,
       "version_minor": 0
      },
      "text/plain": [
       "HBox(children=(FloatProgress(value=0.0, max=1313575.0), HTML(value='')))"
      ]
     },
     "metadata": {},
     "output_type": "display_data"
    },
    {
     "name": "stdout",
     "output_type": "stream",
     "text": [
      "\n"
     ]
    },
    {
     "data": {
      "text/html": [
       "<div>\n",
       "<style scoped>\n",
       "    .dataframe tbody tr th:only-of-type {\n",
       "        vertical-align: middle;\n",
       "    }\n",
       "\n",
       "    .dataframe tbody tr th {\n",
       "        vertical-align: top;\n",
       "    }\n",
       "\n",
       "    .dataframe thead th {\n",
       "        text-align: right;\n",
       "    }\n",
       "</style>\n",
       "<table border=\"1\" class=\"dataframe\">\n",
       "  <thead>\n",
       "    <tr style=\"text-align: right;\">\n",
       "      <th></th>\n",
       "      <th>url</th>\n",
       "      <th>url_len</th>\n",
       "      <th>ip_add</th>\n",
       "      <th>tld</th>\n",
       "      <th>who_is</th>\n",
       "      <th>https</th>\n",
       "      <th>js_len</th>\n",
       "      <th>js_obf_len</th>\n",
       "      <th>content</th>\n",
       "      <th>label</th>\n",
       "      <th>latitude</th>\n",
       "      <th>longitude</th>\n",
       "      <th>has_IP_in_URL</th>\n",
       "      <th>number_subdomains</th>\n",
       "      <th>hostname</th>\n",
       "      <th>length_hostname</th>\n",
       "      <th>ratio_digits_url</th>\n",
       "      <th>having_@_in_url</th>\n",
       "      <th>ratio_digits_hostname</th>\n",
       "      <th>number_underscores</th>\n",
       "    </tr>\n",
       "  </thead>\n",
       "  <tbody>\n",
       "    <tr>\n",
       "      <td>0</td>\n",
       "      <td>http://members.tripod.com/russiastation/</td>\n",
       "      <td>40</td>\n",
       "      <td>42.77.221.155</td>\n",
       "      <td>com</td>\n",
       "      <td>complete</td>\n",
       "      <td>yes</td>\n",
       "      <td>58.0</td>\n",
       "      <td>0.0</td>\n",
       "      <td>Named themselves charged particles in a manly ...</td>\n",
       "      <td>good</td>\n",
       "      <td>23.973937</td>\n",
       "      <td>120.982018</td>\n",
       "      <td>0</td>\n",
       "      <td>1</td>\n",
       "      <td>members.tripod.com</td>\n",
       "      <td>18</td>\n",
       "      <td>0.0</td>\n",
       "      <td>0</td>\n",
       "      <td>0.0</td>\n",
       "      <td>0</td>\n",
       "    </tr>\n",
       "  </tbody>\n",
       "</table>\n",
       "</div>"
      ],
      "text/plain": [
       "                                        url  url_len         ip_add  tld  \\\n",
       "0  http://members.tripod.com/russiastation/       40  42.77.221.155  com   \n",
       "\n",
       "     who_is https  js_len  js_obf_len  \\\n",
       "0  complete   yes    58.0         0.0   \n",
       "\n",
       "                                             content label   latitude  \\\n",
       "0  Named themselves charged particles in a manly ...  good  23.973937   \n",
       "\n",
       "    longitude  has_IP_in_URL  number_subdomains            hostname  \\\n",
       "0  120.982018              0                  1  members.tripod.com   \n",
       "\n",
       "   length_hostname  ratio_digits_url  having_@_in_url  ratio_digits_hostname  \\\n",
       "0               18               0.0                0                    0.0   \n",
       "\n",
       "   number_underscores  \n",
       "0                   0  "
      ]
     },
     "execution_count": 209,
     "metadata": {},
     "output_type": "execute_result"
    }
   ],
   "source": [
    "dataset_20['number_underscores'] = dataset_20['url'].progress_apply(lambda x: x.count('_'))\n",
    "dataset_20.head(1)"
   ]
  },
  {
   "cell_type": "markdown",
   "metadata": {},
   "source": [
    "## Charset "
   ]
  },
  {
   "cell_type": "code",
   "execution_count": null,
   "metadata": {},
   "outputs": [],
   "source": []
  },
  {
   "cell_type": "markdown",
   "metadata": {},
   "source": [
    "## DNS Query times"
   ]
  },
  {
   "cell_type": "code",
   "execution_count": 167,
   "metadata": {},
   "outputs": [],
   "source": [
    "# import dns.resolver\n",
    "# import time\n",
    "\n",
    "# def dns_query_time_seconds(url):\n",
    "#     print(url)\n",
    "#     dns_start = time.perf_counter()\n",
    "#     answers = dns.resolver.query(url)\n",
    "#     dns_end = time.perf_counter()\n",
    "#     return dns_end - dns_start\n",
    "\n",
    "# dataset_20['dns_query_times_seconds'] = dataset_20['url'].progress_apply(lambda x: dns_query_time_seconds(x))\n",
    "# dataset_20['dns_query_times_seconds'].head()"
   ]
  },
  {
   "cell_type": "markdown",
   "metadata": {},
   "source": [
    "## Encoding strings in Features for ML"
   ]
  },
  {
   "cell_type": "code",
   "execution_count": 219,
   "metadata": {},
   "outputs": [],
   "source": [
    "def column_adjustor(dataset_column):\n",
    "    unique_values = dataset_column.unique()\n",
    "    return dataset_column.progress_apply(lambda x: np.where(unique_values == x)[0][0])"
   ]
  },
  {
   "cell_type": "code",
   "execution_count": 226,
   "metadata": {},
   "outputs": [
    {
     "data": {
      "application/vnd.jupyter.widget-view+json": {
       "model_id": "aabf495ff30145dfb74250f2bcd5a1bc",
       "version_major": 2,
       "version_minor": 0
      },
      "text/plain": [
       "HBox(children=(FloatProgress(value=0.0, max=1313575.0), HTML(value='')))"
      ]
     },
     "metadata": {},
     "output_type": "display_data"
    },
    {
     "name": "stdout",
     "output_type": "stream",
     "text": [
      "\n"
     ]
    },
    {
     "data": {
      "application/vnd.jupyter.widget-view+json": {
       "model_id": "d3b6412093b2441c85bc8336e56ac43a",
       "version_major": 2,
       "version_minor": 0
      },
      "text/plain": [
       "HBox(children=(FloatProgress(value=0.0, max=1313575.0), HTML(value='')))"
      ]
     },
     "metadata": {},
     "output_type": "display_data"
    },
    {
     "name": "stdout",
     "output_type": "stream",
     "text": [
      "\n"
     ]
    },
    {
     "data": {
      "application/vnd.jupyter.widget-view+json": {
       "model_id": "b0cdd6ba74594c13bf12953fc7c7b5e5",
       "version_major": 2,
       "version_minor": 0
      },
      "text/plain": [
       "HBox(children=(FloatProgress(value=0.0, max=1313575.0), HTML(value='')))"
      ]
     },
     "metadata": {},
     "output_type": "display_data"
    },
    {
     "name": "stdout",
     "output_type": "stream",
     "text": [
      "\n"
     ]
    }
   ],
   "source": [
    "dataset_20['who_is'] = column_adjustor(dataset_20['who_is'])\n",
    "dataset_20['https'] = column_adjustor(dataset_20['https'])\n",
    "dataset_20['tld'] = column_adjustor(dataset_20['tld'])"
   ]
  },
  {
   "cell_type": "code",
   "execution_count": 8,
   "metadata": {},
   "outputs": [
    {
     "data": {
      "application/vnd.jupyter.widget-view+json": {
       "model_id": "098b732e4c8741be90e0deab7c7fdd0d",
       "version_major": 2,
       "version_minor": 0
      },
      "text/plain": [
       "HBox(children=(FloatProgress(value=0.0, max=1313575.0), HTML(value='')))"
      ]
     },
     "metadata": {},
     "output_type": "display_data"
    },
    {
     "name": "stdout",
     "output_type": "stream",
     "text": [
      "\n"
     ]
    }
   ],
   "source": [
    "dataset_20['label'] = dataset_20['label'].progress_apply(lambda x: 0 if x == 'good' else 1)"
   ]
  },
  {
   "cell_type": "code",
   "execution_count": 228,
   "metadata": {},
   "outputs": [
    {
     "data": {
      "text/html": [
       "<div>\n",
       "<style scoped>\n",
       "    .dataframe tbody tr th:only-of-type {\n",
       "        vertical-align: middle;\n",
       "    }\n",
       "\n",
       "    .dataframe tbody tr th {\n",
       "        vertical-align: top;\n",
       "    }\n",
       "\n",
       "    .dataframe thead th {\n",
       "        text-align: right;\n",
       "    }\n",
       "</style>\n",
       "<table border=\"1\" class=\"dataframe\">\n",
       "  <thead>\n",
       "    <tr style=\"text-align: right;\">\n",
       "      <th></th>\n",
       "      <th>url</th>\n",
       "      <th>url_len</th>\n",
       "      <th>ip_add</th>\n",
       "      <th>tld</th>\n",
       "      <th>who_is</th>\n",
       "      <th>https</th>\n",
       "      <th>js_len</th>\n",
       "      <th>js_obf_len</th>\n",
       "      <th>content</th>\n",
       "      <th>label</th>\n",
       "      <th>latitude</th>\n",
       "      <th>longitude</th>\n",
       "      <th>has_IP_in_URL</th>\n",
       "      <th>number_subdomains</th>\n",
       "      <th>hostname</th>\n",
       "      <th>length_hostname</th>\n",
       "      <th>ratio_digits_url</th>\n",
       "      <th>having_@_in_url</th>\n",
       "      <th>ratio_digits_hostname</th>\n",
       "      <th>number_underscores</th>\n",
       "    </tr>\n",
       "  </thead>\n",
       "  <tbody>\n",
       "    <tr>\n",
       "      <td>0</td>\n",
       "      <td>http://members.tripod.com/russiastation/</td>\n",
       "      <td>40</td>\n",
       "      <td>42.77.221.155</td>\n",
       "      <td>0</td>\n",
       "      <td>0</td>\n",
       "      <td>0</td>\n",
       "      <td>58.0</td>\n",
       "      <td>0.0</td>\n",
       "      <td>Named themselves charged particles in a manly ...</td>\n",
       "      <td>good</td>\n",
       "      <td>23.973937</td>\n",
       "      <td>120.982018</td>\n",
       "      <td>0</td>\n",
       "      <td>1</td>\n",
       "      <td>members.tripod.com</td>\n",
       "      <td>18</td>\n",
       "      <td>0.000000</td>\n",
       "      <td>0</td>\n",
       "      <td>0.000000</td>\n",
       "      <td>0</td>\n",
       "    </tr>\n",
       "    <tr>\n",
       "      <td>1</td>\n",
       "      <td>http://www.ddj.com/cpp/184403822</td>\n",
       "      <td>32</td>\n",
       "      <td>3.211.202.180</td>\n",
       "      <td>0</td>\n",
       "      <td>0</td>\n",
       "      <td>0</td>\n",
       "      <td>52.5</td>\n",
       "      <td>0.0</td>\n",
       "      <td>And filipino field \\n \\n \\n \\n \\n \\n \\n \\n the...</td>\n",
       "      <td>good</td>\n",
       "      <td>39.783730</td>\n",
       "      <td>-100.445882</td>\n",
       "      <td>0</td>\n",
       "      <td>1</td>\n",
       "      <td>www.ddj.com</td>\n",
       "      <td>11</td>\n",
       "      <td>0.281250</td>\n",
       "      <td>0</td>\n",
       "      <td>0.000000</td>\n",
       "      <td>0</td>\n",
       "    </tr>\n",
       "    <tr>\n",
       "      <td>2</td>\n",
       "      <td>http://www.naef-usa.com/</td>\n",
       "      <td>24</td>\n",
       "      <td>24.232.54.41</td>\n",
       "      <td>0</td>\n",
       "      <td>0</td>\n",
       "      <td>0</td>\n",
       "      <td>103.5</td>\n",
       "      <td>0.0</td>\n",
       "      <td>Took in cognitivism, whose adherents argue for...</td>\n",
       "      <td>good</td>\n",
       "      <td>-34.996496</td>\n",
       "      <td>-64.967282</td>\n",
       "      <td>0</td>\n",
       "      <td>1</td>\n",
       "      <td>www.naef-usa.com</td>\n",
       "      <td>16</td>\n",
       "      <td>0.000000</td>\n",
       "      <td>0</td>\n",
       "      <td>0.000000</td>\n",
       "      <td>0</td>\n",
       "    </tr>\n",
       "    <tr>\n",
       "      <td>3</td>\n",
       "      <td>http://www.ff-b2b.de/</td>\n",
       "      <td>21</td>\n",
       "      <td>147.22.38.45</td>\n",
       "      <td>1</td>\n",
       "      <td>1</td>\n",
       "      <td>1</td>\n",
       "      <td>720.0</td>\n",
       "      <td>532.8</td>\n",
       "      <td>fire cumshot sodomize footaction tortur failed...</td>\n",
       "      <td>bad</td>\n",
       "      <td>39.783730</td>\n",
       "      <td>-100.445882</td>\n",
       "      <td>0</td>\n",
       "      <td>2</td>\n",
       "      <td>www.ff-b2b.de</td>\n",
       "      <td>13</td>\n",
       "      <td>0.047619</td>\n",
       "      <td>0</td>\n",
       "      <td>0.076923</td>\n",
       "      <td>0</td>\n",
       "    </tr>\n",
       "    <tr>\n",
       "      <td>4</td>\n",
       "      <td>http://us.imdb.com/title/tt0176269/</td>\n",
       "      <td>35</td>\n",
       "      <td>205.30.239.85</td>\n",
       "      <td>0</td>\n",
       "      <td>0</td>\n",
       "      <td>0</td>\n",
       "      <td>46.5</td>\n",
       "      <td>0.0</td>\n",
       "      <td>Levant, also monsignor georges. In 1800, lists...</td>\n",
       "      <td>good</td>\n",
       "      <td>39.783730</td>\n",
       "      <td>-100.445882</td>\n",
       "      <td>0</td>\n",
       "      <td>1</td>\n",
       "      <td>us.imdb.com</td>\n",
       "      <td>11</td>\n",
       "      <td>0.200000</td>\n",
       "      <td>0</td>\n",
       "      <td>0.000000</td>\n",
       "      <td>0</td>\n",
       "    </tr>\n",
       "  </tbody>\n",
       "</table>\n",
       "</div>"
      ],
      "text/plain": [
       "                                        url  url_len         ip_add  tld  \\\n",
       "0  http://members.tripod.com/russiastation/       40  42.77.221.155    0   \n",
       "1          http://www.ddj.com/cpp/184403822       32  3.211.202.180    0   \n",
       "2                  http://www.naef-usa.com/       24   24.232.54.41    0   \n",
       "3                     http://www.ff-b2b.de/       21   147.22.38.45    1   \n",
       "4       http://us.imdb.com/title/tt0176269/       35  205.30.239.85    0   \n",
       "\n",
       "   who_is  https  js_len  js_obf_len  \\\n",
       "0       0      0    58.0         0.0   \n",
       "1       0      0    52.5         0.0   \n",
       "2       0      0   103.5         0.0   \n",
       "3       1      1   720.0       532.8   \n",
       "4       0      0    46.5         0.0   \n",
       "\n",
       "                                             content label   latitude  \\\n",
       "0  Named themselves charged particles in a manly ...  good  23.973937   \n",
       "1  And filipino field \\n \\n \\n \\n \\n \\n \\n \\n the...  good  39.783730   \n",
       "2  Took in cognitivism, whose adherents argue for...  good -34.996496   \n",
       "3  fire cumshot sodomize footaction tortur failed...   bad  39.783730   \n",
       "4  Levant, also monsignor georges. In 1800, lists...  good  39.783730   \n",
       "\n",
       "    longitude  has_IP_in_URL  number_subdomains            hostname  \\\n",
       "0  120.982018              0                  1  members.tripod.com   \n",
       "1 -100.445882              0                  1         www.ddj.com   \n",
       "2  -64.967282              0                  1    www.naef-usa.com   \n",
       "3 -100.445882              0                  2       www.ff-b2b.de   \n",
       "4 -100.445882              0                  1         us.imdb.com   \n",
       "\n",
       "   length_hostname  ratio_digits_url  having_@_in_url  ratio_digits_hostname  \\\n",
       "0               18          0.000000                0               0.000000   \n",
       "1               11          0.281250                0               0.000000   \n",
       "2               16          0.000000                0               0.000000   \n",
       "3               13          0.047619                0               0.076923   \n",
       "4               11          0.200000                0               0.000000   \n",
       "\n",
       "   number_underscores  \n",
       "0                   0  \n",
       "1                   0  \n",
       "2                   0  \n",
       "3                   0  \n",
       "4                   0  "
      ]
     },
     "execution_count": 228,
     "metadata": {},
     "output_type": "execute_result"
    }
   ],
   "source": [
    "dataset_20.head()"
   ]
  },
  {
   "cell_type": "markdown",
   "metadata": {},
   "source": [
    "## Saving dataset Checkpoint!!!"
   ]
  },
  {
   "cell_type": "code",
   "execution_count": 10,
   "metadata": {},
   "outputs": [],
   "source": [
    "# dataset_20.to_csv('dataset_20_new_features.csv')"
   ]
  },
  {
   "cell_type": "code",
   "execution_count": 19,
   "metadata": {},
   "outputs": [
    {
     "data": {
      "text/html": [
       "<div>\n",
       "<style scoped>\n",
       "    .dataframe tbody tr th:only-of-type {\n",
       "        vertical-align: middle;\n",
       "    }\n",
       "\n",
       "    .dataframe tbody tr th {\n",
       "        vertical-align: top;\n",
       "    }\n",
       "\n",
       "    .dataframe thead th {\n",
       "        text-align: right;\n",
       "    }\n",
       "</style>\n",
       "<table border=\"1\" class=\"dataframe\">\n",
       "  <thead>\n",
       "    <tr style=\"text-align: right;\">\n",
       "      <th></th>\n",
       "      <th>url</th>\n",
       "      <th>url_len</th>\n",
       "      <th>ip_add</th>\n",
       "      <th>tld</th>\n",
       "      <th>who_is</th>\n",
       "      <th>https</th>\n",
       "      <th>js_len</th>\n",
       "      <th>js_obf_len</th>\n",
       "      <th>content</th>\n",
       "      <th>label</th>\n",
       "      <th>latitude</th>\n",
       "      <th>longitude</th>\n",
       "      <th>has_IP_in_URL</th>\n",
       "      <th>number_subdomains</th>\n",
       "      <th>hostname</th>\n",
       "      <th>length_hostname</th>\n",
       "      <th>ratio_digits_url</th>\n",
       "      <th>having_@_in_url</th>\n",
       "      <th>ratio_digits_hostname</th>\n",
       "      <th>number_underscores</th>\n",
       "    </tr>\n",
       "  </thead>\n",
       "  <tbody>\n",
       "    <tr>\n",
       "      <td>0</td>\n",
       "      <td>http://members.tripod.com/russiastation/</td>\n",
       "      <td>40</td>\n",
       "      <td>42.77.221.155</td>\n",
       "      <td>0</td>\n",
       "      <td>0</td>\n",
       "      <td>0</td>\n",
       "      <td>58.0</td>\n",
       "      <td>0.0</td>\n",
       "      <td>Named themselves charged particles in a manly ...</td>\n",
       "      <td>good</td>\n",
       "      <td>23.973937</td>\n",
       "      <td>120.982018</td>\n",
       "      <td>0</td>\n",
       "      <td>1</td>\n",
       "      <td>members.tripod.com</td>\n",
       "      <td>18</td>\n",
       "      <td>0.000000</td>\n",
       "      <td>0</td>\n",
       "      <td>0.000000</td>\n",
       "      <td>0</td>\n",
       "    </tr>\n",
       "    <tr>\n",
       "      <td>1</td>\n",
       "      <td>http://www.ddj.com/cpp/184403822</td>\n",
       "      <td>32</td>\n",
       "      <td>3.211.202.180</td>\n",
       "      <td>0</td>\n",
       "      <td>0</td>\n",
       "      <td>0</td>\n",
       "      <td>52.5</td>\n",
       "      <td>0.0</td>\n",
       "      <td>And filipino field \\n \\n \\n \\n \\n \\n \\n \\n the...</td>\n",
       "      <td>good</td>\n",
       "      <td>39.783730</td>\n",
       "      <td>-100.445882</td>\n",
       "      <td>0</td>\n",
       "      <td>1</td>\n",
       "      <td>www.ddj.com</td>\n",
       "      <td>11</td>\n",
       "      <td>0.281250</td>\n",
       "      <td>0</td>\n",
       "      <td>0.000000</td>\n",
       "      <td>0</td>\n",
       "    </tr>\n",
       "    <tr>\n",
       "      <td>2</td>\n",
       "      <td>http://www.naef-usa.com/</td>\n",
       "      <td>24</td>\n",
       "      <td>24.232.54.41</td>\n",
       "      <td>0</td>\n",
       "      <td>0</td>\n",
       "      <td>0</td>\n",
       "      <td>103.5</td>\n",
       "      <td>0.0</td>\n",
       "      <td>Took in cognitivism, whose adherents argue for...</td>\n",
       "      <td>good</td>\n",
       "      <td>-34.996496</td>\n",
       "      <td>-64.967282</td>\n",
       "      <td>0</td>\n",
       "      <td>1</td>\n",
       "      <td>www.naef-usa.com</td>\n",
       "      <td>16</td>\n",
       "      <td>0.000000</td>\n",
       "      <td>0</td>\n",
       "      <td>0.000000</td>\n",
       "      <td>0</td>\n",
       "    </tr>\n",
       "    <tr>\n",
       "      <td>3</td>\n",
       "      <td>http://www.ff-b2b.de/</td>\n",
       "      <td>21</td>\n",
       "      <td>147.22.38.45</td>\n",
       "      <td>1</td>\n",
       "      <td>1</td>\n",
       "      <td>1</td>\n",
       "      <td>720.0</td>\n",
       "      <td>532.8</td>\n",
       "      <td>fire cumshot sodomize footaction tortur failed...</td>\n",
       "      <td>bad</td>\n",
       "      <td>39.783730</td>\n",
       "      <td>-100.445882</td>\n",
       "      <td>0</td>\n",
       "      <td>2</td>\n",
       "      <td>www.ff-b2b.de</td>\n",
       "      <td>13</td>\n",
       "      <td>0.047619</td>\n",
       "      <td>0</td>\n",
       "      <td>0.076923</td>\n",
       "      <td>0</td>\n",
       "    </tr>\n",
       "    <tr>\n",
       "      <td>4</td>\n",
       "      <td>http://us.imdb.com/title/tt0176269/</td>\n",
       "      <td>35</td>\n",
       "      <td>205.30.239.85</td>\n",
       "      <td>0</td>\n",
       "      <td>0</td>\n",
       "      <td>0</td>\n",
       "      <td>46.5</td>\n",
       "      <td>0.0</td>\n",
       "      <td>Levant, also monsignor georges. In 1800, lists...</td>\n",
       "      <td>good</td>\n",
       "      <td>39.783730</td>\n",
       "      <td>-100.445882</td>\n",
       "      <td>0</td>\n",
       "      <td>1</td>\n",
       "      <td>us.imdb.com</td>\n",
       "      <td>11</td>\n",
       "      <td>0.200000</td>\n",
       "      <td>0</td>\n",
       "      <td>0.000000</td>\n",
       "      <td>0</td>\n",
       "    </tr>\n",
       "  </tbody>\n",
       "</table>\n",
       "</div>"
      ],
      "text/plain": [
       "                                        url  url_len         ip_add  tld  \\\n",
       "0  http://members.tripod.com/russiastation/       40  42.77.221.155    0   \n",
       "1          http://www.ddj.com/cpp/184403822       32  3.211.202.180    0   \n",
       "2                  http://www.naef-usa.com/       24   24.232.54.41    0   \n",
       "3                     http://www.ff-b2b.de/       21   147.22.38.45    1   \n",
       "4       http://us.imdb.com/title/tt0176269/       35  205.30.239.85    0   \n",
       "\n",
       "   who_is  https  js_len  js_obf_len  \\\n",
       "0       0      0    58.0         0.0   \n",
       "1       0      0    52.5         0.0   \n",
       "2       0      0   103.5         0.0   \n",
       "3       1      1   720.0       532.8   \n",
       "4       0      0    46.5         0.0   \n",
       "\n",
       "                                             content label   latitude  \\\n",
       "0  Named themselves charged particles in a manly ...  good  23.973937   \n",
       "1  And filipino field \\n \\n \\n \\n \\n \\n \\n \\n the...  good  39.783730   \n",
       "2  Took in cognitivism, whose adherents argue for...  good -34.996496   \n",
       "3  fire cumshot sodomize footaction tortur failed...   bad  39.783730   \n",
       "4  Levant, also monsignor georges. In 1800, lists...  good  39.783730   \n",
       "\n",
       "    longitude  has_IP_in_URL  number_subdomains            hostname  \\\n",
       "0  120.982018              0                  1  members.tripod.com   \n",
       "1 -100.445882              0                  1         www.ddj.com   \n",
       "2  -64.967282              0                  1    www.naef-usa.com   \n",
       "3 -100.445882              0                  2       www.ff-b2b.de   \n",
       "4 -100.445882              0                  1         us.imdb.com   \n",
       "\n",
       "   length_hostname  ratio_digits_url  having_@_in_url  ratio_digits_hostname  \\\n",
       "0               18          0.000000                0               0.000000   \n",
       "1               11          0.281250                0               0.000000   \n",
       "2               16          0.000000                0               0.000000   \n",
       "3               13          0.047619                0               0.076923   \n",
       "4               11          0.200000                0               0.000000   \n",
       "\n",
       "   number_underscores  \n",
       "0                   0  \n",
       "1                   0  \n",
       "2                   0  \n",
       "3                   0  \n",
       "4                   0  "
      ]
     },
     "execution_count": 19,
     "metadata": {},
     "output_type": "execute_result"
    }
   ],
   "source": [
    "dataset_20 = pd.read_csv('dataset_20_new_features.csv').drop(columns = ['Unnamed: 0'])\n",
    "dataset_20.head()"
   ]
  },
  {
   "cell_type": "markdown",
   "metadata": {},
   "source": [
    "## Train-test-split"
   ]
  },
  {
   "cell_type": "code",
   "execution_count": 20,
   "metadata": {},
   "outputs": [
    {
     "data": {
      "text/html": [
       "<div>\n",
       "<style scoped>\n",
       "    .dataframe tbody tr th:only-of-type {\n",
       "        vertical-align: middle;\n",
       "    }\n",
       "\n",
       "    .dataframe tbody tr th {\n",
       "        vertical-align: top;\n",
       "    }\n",
       "\n",
       "    .dataframe thead th {\n",
       "        text-align: right;\n",
       "    }\n",
       "</style>\n",
       "<table border=\"1\" class=\"dataframe\">\n",
       "  <thead>\n",
       "    <tr style=\"text-align: right;\">\n",
       "      <th></th>\n",
       "      <th>url_len</th>\n",
       "      <th>tld</th>\n",
       "      <th>who_is</th>\n",
       "      <th>https</th>\n",
       "      <th>js_len</th>\n",
       "      <th>js_obf_len</th>\n",
       "      <th>latitude</th>\n",
       "      <th>longitude</th>\n",
       "      <th>has_IP_in_URL</th>\n",
       "      <th>number_subdomains</th>\n",
       "      <th>length_hostname</th>\n",
       "      <th>ratio_digits_url</th>\n",
       "      <th>having_@_in_url</th>\n",
       "      <th>ratio_digits_hostname</th>\n",
       "      <th>number_underscores</th>\n",
       "    </tr>\n",
       "  </thead>\n",
       "  <tbody>\n",
       "    <tr>\n",
       "      <td>0</td>\n",
       "      <td>40</td>\n",
       "      <td>0</td>\n",
       "      <td>0</td>\n",
       "      <td>0</td>\n",
       "      <td>58.0</td>\n",
       "      <td>0.0</td>\n",
       "      <td>23.973937</td>\n",
       "      <td>120.982018</td>\n",
       "      <td>0</td>\n",
       "      <td>1</td>\n",
       "      <td>18</td>\n",
       "      <td>0.000000</td>\n",
       "      <td>0</td>\n",
       "      <td>0.000000</td>\n",
       "      <td>0</td>\n",
       "    </tr>\n",
       "    <tr>\n",
       "      <td>1</td>\n",
       "      <td>32</td>\n",
       "      <td>0</td>\n",
       "      <td>0</td>\n",
       "      <td>0</td>\n",
       "      <td>52.5</td>\n",
       "      <td>0.0</td>\n",
       "      <td>39.783730</td>\n",
       "      <td>-100.445882</td>\n",
       "      <td>0</td>\n",
       "      <td>1</td>\n",
       "      <td>11</td>\n",
       "      <td>0.281250</td>\n",
       "      <td>0</td>\n",
       "      <td>0.000000</td>\n",
       "      <td>0</td>\n",
       "    </tr>\n",
       "    <tr>\n",
       "      <td>2</td>\n",
       "      <td>24</td>\n",
       "      <td>0</td>\n",
       "      <td>0</td>\n",
       "      <td>0</td>\n",
       "      <td>103.5</td>\n",
       "      <td>0.0</td>\n",
       "      <td>-34.996496</td>\n",
       "      <td>-64.967282</td>\n",
       "      <td>0</td>\n",
       "      <td>1</td>\n",
       "      <td>16</td>\n",
       "      <td>0.000000</td>\n",
       "      <td>0</td>\n",
       "      <td>0.000000</td>\n",
       "      <td>0</td>\n",
       "    </tr>\n",
       "    <tr>\n",
       "      <td>3</td>\n",
       "      <td>21</td>\n",
       "      <td>1</td>\n",
       "      <td>1</td>\n",
       "      <td>1</td>\n",
       "      <td>720.0</td>\n",
       "      <td>532.8</td>\n",
       "      <td>39.783730</td>\n",
       "      <td>-100.445882</td>\n",
       "      <td>0</td>\n",
       "      <td>2</td>\n",
       "      <td>13</td>\n",
       "      <td>0.047619</td>\n",
       "      <td>0</td>\n",
       "      <td>0.076923</td>\n",
       "      <td>0</td>\n",
       "    </tr>\n",
       "    <tr>\n",
       "      <td>4</td>\n",
       "      <td>35</td>\n",
       "      <td>0</td>\n",
       "      <td>0</td>\n",
       "      <td>0</td>\n",
       "      <td>46.5</td>\n",
       "      <td>0.0</td>\n",
       "      <td>39.783730</td>\n",
       "      <td>-100.445882</td>\n",
       "      <td>0</td>\n",
       "      <td>1</td>\n",
       "      <td>11</td>\n",
       "      <td>0.200000</td>\n",
       "      <td>0</td>\n",
       "      <td>0.000000</td>\n",
       "      <td>0</td>\n",
       "    </tr>\n",
       "  </tbody>\n",
       "</table>\n",
       "</div>"
      ],
      "text/plain": [
       "   url_len  tld  who_is  https  js_len  js_obf_len   latitude   longitude  \\\n",
       "0       40    0       0      0    58.0         0.0  23.973937  120.982018   \n",
       "1       32    0       0      0    52.5         0.0  39.783730 -100.445882   \n",
       "2       24    0       0      0   103.5         0.0 -34.996496  -64.967282   \n",
       "3       21    1       1      1   720.0       532.8  39.783730 -100.445882   \n",
       "4       35    0       0      0    46.5         0.0  39.783730 -100.445882   \n",
       "\n",
       "   has_IP_in_URL  number_subdomains  length_hostname  ratio_digits_url  \\\n",
       "0              0                  1               18          0.000000   \n",
       "1              0                  1               11          0.281250   \n",
       "2              0                  1               16          0.000000   \n",
       "3              0                  2               13          0.047619   \n",
       "4              0                  1               11          0.200000   \n",
       "\n",
       "   having_@_in_url  ratio_digits_hostname  number_underscores  \n",
       "0                0               0.000000                   0  \n",
       "1                0               0.000000                   0  \n",
       "2                0               0.000000                   0  \n",
       "3                0               0.076923                   0  \n",
       "4                0               0.000000                   0  "
      ]
     },
     "execution_count": 20,
     "metadata": {},
     "output_type": "execute_result"
    }
   ],
   "source": [
    "X = dataset_20.drop(columns=['url', 'label', 'ip_add', 'content', 'hostname'])\n",
    "y = dataset_20['label']\n",
    "\n",
    "X.head()"
   ]
  },
  {
   "cell_type": "code",
   "execution_count": 21,
   "metadata": {},
   "outputs": [],
   "source": [
    "X_train, X_test, y_train, y_test = train_test_split(X, y, test_size=0.33, random_state=42)"
   ]
  },
  {
   "cell_type": "markdown",
   "metadata": {},
   "source": [
    "## t-SNE "
   ]
  },
  {
   "cell_type": "code",
   "execution_count": 22,
   "metadata": {
    "scrolled": true
   },
   "outputs": [],
   "source": [
    "# from sklearn.manifold import TSNE\n",
    "# import matplotlib.patches as mpatches\n",
    "\n",
    "# X_embedded = TSNE(n_components = 2, random_state = 0, verbose=True).fit_transform(X)\n",
    "\n",
    "\n",
    "# f, ax = plt.subplots(figsize=(24,16))\n",
    "\n",
    "# blue_patch = mpatches.Patch(color='#0A0AFF', label='Not Phishing')\n",
    "# red_patch = mpatches.Patch(color='#AF0000', label='Phishing')\n",
    "\n",
    "# ax.scatter(X_embedded[:,0], X_embedded[:,1], c=(y == 0), cmap='coolwarm', label='Not Phishing', linewidths=2)\n",
    "# ax.scatter(X_embedded[:,0], X_embedded[:,1], c=(y == 1), cmap='coolwarm', label='Phishing', linewidths=2)\n",
    "# ax.set_title('t-SNE', fontsize=30)\n",
    "\n",
    "# ax.grid(True)\n",
    "\n",
    "# ax.legend(handles=[blue_patch, red_patch])"
   ]
  },
  {
   "cell_type": "code",
   "execution_count": 23,
   "metadata": {},
   "outputs": [],
   "source": [
    "# pd.DataFrame(X_embedded).to_csv('tSNE_initial.csv', sep=',')"
   ]
  },
  {
   "cell_type": "markdown",
   "metadata": {},
   "source": [
    "## SVM"
   ]
  },
  {
   "cell_type": "code",
   "execution_count": 24,
   "metadata": {},
   "outputs": [
    {
     "name": "stdout",
     "output_type": "stream",
     "text": [
      "[LibSVM]"
     ]
    },
    {
     "data": {
      "text/plain": [
       "SVC(verbose=1)"
      ]
     },
     "execution_count": 24,
     "metadata": {},
     "output_type": "execute_result"
    }
   ],
   "source": [
    "svm_model = svm.SVC(kernel='rbf', verbose=1)\n",
    "svm_model.fit(X_train, y_train)"
   ]
  },
  {
   "cell_type": "code",
   "execution_count": 25,
   "metadata": {},
   "outputs": [
    {
     "data": {
      "text/plain": [
       "0.9988234751314939"
      ]
     },
     "execution_count": 25,
     "metadata": {},
     "output_type": "execute_result"
    }
   ],
   "source": [
    "from sklearn.metrics import accuracy_score\n",
    "\n",
    "y_pred = svm_model.predict(X_test)\n",
    "accuracy_score(y_test, y_pred)"
   ]
  },
  {
   "cell_type": "markdown",
   "metadata": {},
   "source": [
    "Optimistic first try with the SVM, but might need to add more malicious samples"
   ]
  },
  {
   "cell_type": "code",
   "execution_count": 26,
   "metadata": {},
   "outputs": [
    {
     "data": {
      "text/plain": [
       "array([[  9292,    510],\n",
       "       [     0, 423678]])"
      ]
     },
     "execution_count": 26,
     "metadata": {},
     "output_type": "execute_result"
    }
   ],
   "source": [
    "confusion_matrix(y_test, y_pred)"
   ]
  },
  {
   "cell_type": "markdown",
   "metadata": {},
   "source": [
    "## Random Forest Classifier"
   ]
  },
  {
   "cell_type": "code",
   "execution_count": 28,
   "metadata": {},
   "outputs": [
    {
     "name": "stderr",
     "output_type": "stream",
     "text": [
      "[Parallel(n_jobs=1)]: Using backend SequentialBackend with 1 concurrent workers.\n",
      "[Parallel(n_jobs=1)]: Done 100 out of 100 | elapsed:  1.2min finished\n"
     ]
    },
    {
     "data": {
      "text/plain": [
       "RandomForestClassifier(verbose=1)"
      ]
     },
     "execution_count": 28,
     "metadata": {},
     "output_type": "execute_result"
    }
   ],
   "source": [
    "from sklearn.ensemble import RandomForestClassifier\n",
    "\n",
    "rfc_model = RandomForestClassifier(n_estimators=100, verbose=1)\n",
    "rfc_model.fit(X_train, y_train)"
   ]
  },
  {
   "cell_type": "code",
   "execution_count": 29,
   "metadata": {},
   "outputs": [
    {
     "name": "stderr",
     "output_type": "stream",
     "text": [
      "[Parallel(n_jobs=1)]: Using backend SequentialBackend with 1 concurrent workers.\n",
      "[Parallel(n_jobs=1)]: Done 100 out of 100 | elapsed:    2.2s finished\n"
     ]
    },
    {
     "data": {
      "text/plain": [
       "0.998841930423549"
      ]
     },
     "execution_count": 29,
     "metadata": {},
     "output_type": "execute_result"
    }
   ],
   "source": [
    "y_pred = rfc_model.predict(X_test)\n",
    "accuracy_score(y_test, y_pred)"
   ]
  },
  {
   "cell_type": "code",
   "execution_count": 30,
   "metadata": {},
   "outputs": [
    {
     "data": {
      "text/plain": [
       "array([[  9440,    362],\n",
       "       [   140, 423538]])"
      ]
     },
     "execution_count": 30,
     "metadata": {},
     "output_type": "execute_result"
    }
   ],
   "source": [
    "confusion_matrix(y_test, y_pred)"
   ]
  },
  {
   "cell_type": "markdown",
   "metadata": {},
   "source": [
    "## KNN"
   ]
  },
  {
   "cell_type": "code",
   "execution_count": 31,
   "metadata": {},
   "outputs": [
    {
     "data": {
      "text/plain": [
       "KNeighborsClassifier(n_neighbors=20)"
      ]
     },
     "execution_count": 31,
     "metadata": {},
     "output_type": "execute_result"
    }
   ],
   "source": [
    "from sklearn.neighbors import KNeighborsClassifier\n",
    "\n",
    "knn_model = KNeighborsClassifier(n_neighbors=20)\n",
    "knn_model.fit(X_train, y_train)"
   ]
  },
  {
   "cell_type": "code",
   "execution_count": 34,
   "metadata": {},
   "outputs": [
    {
     "data": {
      "text/plain": [
       "0.9988073267509459"
      ]
     },
     "execution_count": 34,
     "metadata": {},
     "output_type": "execute_result"
    }
   ],
   "source": [
    "y_pred = knn_model.predict(X_test)\n",
    "accuracy_score(y_test, y_pred)"
   ]
  },
  {
   "cell_type": "code",
   "execution_count": 35,
   "metadata": {},
   "outputs": [
    {
     "data": {
      "text/plain": [
       "array([[  9288,    514],\n",
       "       [     3, 423675]])"
      ]
     },
     "execution_count": 35,
     "metadata": {},
     "output_type": "execute_result"
    }
   ],
   "source": [
    "confusion_matrix(y_test, y_pred)"
   ]
  },
  {
   "cell_type": "markdown",
   "metadata": {},
   "source": [
    "## Naive Bayes"
   ]
  },
  {
   "cell_type": "code",
   "execution_count": 36,
   "metadata": {},
   "outputs": [],
   "source": [
    "from sklearn.naive_bayes import GaussianNB\n",
    "\n",
    "gnb = GaussianNB()\n",
    "y_pred = gnb.fit(X_train, y_train)"
   ]
  },
  {
   "cell_type": "code",
   "execution_count": 37,
   "metadata": {},
   "outputs": [
    {
     "data": {
      "text/plain": [
       "0.9971947956076405"
      ]
     },
     "execution_count": 37,
     "metadata": {},
     "output_type": "execute_result"
    }
   ],
   "source": [
    "y_pred = gnb.predict(X_test)\n",
    "accuracy_score(y_test, y_pred)"
   ]
  },
  {
   "cell_type": "code",
   "execution_count": 38,
   "metadata": {},
   "outputs": [
    {
     "data": {
      "text/plain": [
       "array([[  8699,   1103],\n",
       "       [   113, 423565]])"
      ]
     },
     "execution_count": 38,
     "metadata": {},
     "output_type": "execute_result"
    }
   ],
   "source": [
    "confusion_matrix(y_test, y_pred)"
   ]
  },
  {
   "cell_type": "markdown",
   "metadata": {},
   "source": [
    "## Running selenium to get URL images"
   ]
  },
  {
   "cell_type": "code",
   "execution_count": 1,
   "metadata": {},
   "outputs": [],
   "source": [
    "# chromeOptions = Options()\n",
    "# chromeOptions.headless = True\n",
    "\n",
    "# def get_screenshot(url, index):\n",
    "#     driver = webdriver.Chrome()\n",
    "#     driver.get(url)\n",
    "#     time.sleep(1)\n",
    "\n",
    "#     driver.get_screenshot_as_file('./dataset_20_screens/' + str(index) + '.png')\n",
    "#     driver.quit()\n",
    "    \n",
    "# for i in dataset_20.index:\n",
    "#     try:\n",
    "#         get_screenshot(dataset_20.iloc[i]['url'], i)\n",
    "#     except:\n",
    "#         print(i)"
   ]
  }
 ],
 "metadata": {
  "kernelspec": {
   "display_name": "Python 3",
   "language": "python",
   "name": "python3"
  },
  "language_info": {
   "codemirror_mode": {
    "name": "ipython",
    "version": 3
   },
   "file_extension": ".py",
   "mimetype": "text/x-python",
   "name": "python",
   "nbconvert_exporter": "python",
   "pygments_lexer": "ipython3",
   "version": "3.7.6"
  },
  "toc": {
   "base_numbering": 1,
   "nav_menu": {},
   "number_sections": true,
   "sideBar": true,
   "skip_h1_title": false,
   "title_cell": "Table of Contents",
   "title_sidebar": "Contents",
   "toc_cell": false,
   "toc_position": {
    "height": "calc(100% - 180px)",
    "left": "10px",
    "top": "150px",
    "width": "612.391px"
   },
   "toc_section_display": true,
   "toc_window_display": true
  }
 },
 "nbformat": 4,
 "nbformat_minor": 4
}
