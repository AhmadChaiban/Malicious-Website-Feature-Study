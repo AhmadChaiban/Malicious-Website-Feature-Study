{
 "cells": [
  {
   "cell_type": "markdown",
   "metadata": {
    "slideshow": {
     "slide_type": "slide"
    }
   },
   "source": [
    "## Import Alexa One Million"
   ]
  },
  {
   "cell_type": "code",
   "execution_count": 1,
   "metadata": {
    "slideshow": {
     "slide_type": "fragment"
    }
   },
   "outputs": [],
   "source": [
    "import os\n",
    "import onemillion\n",
    "import time\n",
    "import csv\n",
    "import numpy as np\n",
    "import pandas as pd\n",
    "from tqdm import tqdm\n",
    "\n",
    "pd.options.display.max_rows = 10000\n",
    "pd.options.display.max_columns = 500"
   ]
  },
  {
   "cell_type": "code",
   "execution_count": 2,
   "metadata": {
    "slideshow": {
     "slide_type": "fragment"
    }
   },
   "outputs": [
    {
     "name": "stdout",
     "output_type": "stream",
     "text": [
      "1\n",
      "None\n"
     ]
    }
   ],
   "source": [
    "o = onemillion.OneMillion()\n",
    "print(o.domain_in_million(\"google.com\")) # 1\n",
    "print(o.domain_in_million(\"gaagle.com\")) # None"
   ]
  },
  {
   "cell_type": "code",
   "execution_count": 3,
   "metadata": {},
   "outputs": [],
   "source": [
    "CONFIG = {\n",
    "    'domain_lists': [\n",
    "        {\n",
    "            'name': \"alexa\",\n",
    "            'output_file_path': \"alexa.csv\",\n",
    "            'url': \"http://s3.amazonaws.com/alexa-static/top-1m.csv.zip\"\n",
    "        }, {\n",
    "            'name': \"cisco umbrella\",\n",
    "            'output_file_path': \"cisco.csv\",\n",
    "            'url': \"http://s3-us-west-1.amazonaws.com/umbrella-static/\" +\n",
    "                   \"top-1m.csv.zip\"\n",
    "        }\n",
    "    ]\n",
    "}\n",
    "\n",
    "# Cache our top 1 million known domains\n",
    "DEFAULT_CACHE_LOCATION = '~/.onemillion'\n",
    "cache_location = os.path.expanduser(DEFAULT_CACHE_LOCATION)\n",
    "\n",
    "# O(n) to read Csv file rows into set \n",
    "def read_onemillion_data():\n",
    "    \"\"\"Check if the given domain is in a top on million list.\"\"\"\n",
    "    # TODO: parse the registered domain out of the domain parameter\n",
    "\n",
    "    # keep track of the highest (nearest to 1) rank for the given domain\n",
    "    highest_rank = None\n",
    "\n",
    "    # see if the given domain is in the up-to-date domain lists\n",
    "    domains = set()\n",
    "    for domain_list in CONFIG['domain_lists']:\n",
    "        # open the domain list as a CSV\n",
    "        with open(os.path.join(cache_location, domain_list['output_file_path']), 'r') as domain_csv:\n",
    "            domain_reader = csv.reader(domain_csv)\n",
    "            for row in domain_reader:\n",
    "                domains.add(row[1])\n",
    "    return domains\n",
    "\n",
    "\n",
    "domains = read_onemillion_data()\n",
    "\n",
    "# O(1) Function Run time\n",
    "def domain_checker(domain):\n",
    "    domain = domain.lower()\n",
    "    if domain in domains:\n",
    "        return True\n",
    "    return False"
   ]
  },
  {
   "cell_type": "code",
   "execution_count": 4,
   "metadata": {},
   "outputs": [],
   "source": [
    "benign_domains = pd.DataFrame(list(domains))"
   ]
  },
  {
   "cell_type": "code",
   "execution_count": 5,
   "metadata": {},
   "outputs": [],
   "source": [
    "# benign_domains.to_csv('alexa_domains.csv', index=False)"
   ]
  },
  {
   "cell_type": "code",
   "execution_count": 5,
   "metadata": {},
   "outputs": [],
   "source": [
    "sample_benign_df = benign_domains.sample(n=40000, replace=False, random_state=41)"
   ]
  },
  {
   "cell_type": "code",
   "execution_count": 6,
   "metadata": {},
   "outputs": [
    {
     "data": {
      "text/html": [
       "<div>\n",
       "<style scoped>\n",
       "    .dataframe tbody tr th:only-of-type {\n",
       "        vertical-align: middle;\n",
       "    }\n",
       "\n",
       "    .dataframe tbody tr th {\n",
       "        vertical-align: top;\n",
       "    }\n",
       "\n",
       "    .dataframe thead th {\n",
       "        text-align: right;\n",
       "    }\n",
       "</style>\n",
       "<table border=\"1\" class=\"dataframe\">\n",
       "  <thead>\n",
       "    <tr style=\"text-align: right;\">\n",
       "      <th></th>\n",
       "      <th>url</th>\n",
       "      <th>label</th>\n",
       "    </tr>\n",
       "  </thead>\n",
       "  <tbody>\n",
       "    <tr>\n",
       "      <td>1469544</td>\n",
       "      <td>compressioninfo.com</td>\n",
       "      <td>good</td>\n",
       "    </tr>\n",
       "    <tr>\n",
       "      <td>777207</td>\n",
       "      <td>nguk1.horizon.vmware.com</td>\n",
       "      <td>good</td>\n",
       "    </tr>\n",
       "    <tr>\n",
       "      <td>691198</td>\n",
       "      <td>ngpvanprodstore.blob.core.windows.net</td>\n",
       "      <td>good</td>\n",
       "    </tr>\n",
       "    <tr>\n",
       "      <td>979023</td>\n",
       "      <td>r3.sn-aigzrne7.c.2mdn.net</td>\n",
       "      <td>good</td>\n",
       "    </tr>\n",
       "    <tr>\n",
       "      <td>440384</td>\n",
       "      <td>engenhariajob.com.br</td>\n",
       "      <td>good</td>\n",
       "    </tr>\n",
       "  </tbody>\n",
       "</table>\n",
       "</div>"
      ],
      "text/plain": [
       "                                           url label\n",
       "1469544                    compressioninfo.com  good\n",
       "777207                nguk1.horizon.vmware.com  good\n",
       "691198   ngpvanprodstore.blob.core.windows.net  good\n",
       "979023               r3.sn-aigzrne7.c.2mdn.net  good\n",
       "440384                    engenhariajob.com.br  good"
      ]
     },
     "execution_count": 6,
     "metadata": {},
     "output_type": "execute_result"
    }
   ],
   "source": [
    "sample_benign_df.columns = ['url']\n",
    "sample_benign_df['label'] = 'good'\n",
    "sample_benign_df.head()"
   ]
  },
  {
   "cell_type": "code",
   "execution_count": 7,
   "metadata": {},
   "outputs": [],
   "source": [
    "sample_benign_df.to_csv('sample_benign_df.csv', index=False)"
   ]
  },
  {
   "cell_type": "markdown",
   "metadata": {},
   "source": [
    "## Getting URLS from previous datasets"
   ]
  },
  {
   "cell_type": "code",
   "execution_count": 9,
   "metadata": {},
   "outputs": [],
   "source": [
    "dataset_chosen_before = pd.read_csv('./data_construction/malicious_urls.csv')"
   ]
  },
  {
   "cell_type": "code",
   "execution_count": 10,
   "metadata": {},
   "outputs": [
    {
     "name": "stdout",
     "output_type": "stream",
     "text": [
      "0\n"
     ]
    }
   ],
   "source": [
    "dataset_6 = pd.read_csv('./datasets_for_project/dataset_6.csv')\n",
    "dataset_6 = dataset_6[~dataset_6['URL'].isin(dataset_chosen_before['url'])]\n",
    "dataset_6_bad = dataset_6[dataset_6['Label']=='bad'][['URL', 'Label']]\n",
    "# dataset_6_bad = dataset_6_bad.sample(n=50000, replace=False, random_state=41)\n",
    "dataset_6_bad.columns = ['url', 'label']\n",
    "print(len(dataset_6_bad))"
   ]
  },
  {
   "cell_type": "code",
   "execution_count": 11,
   "metadata": {},
   "outputs": [],
   "source": [
    "# dataset_7 = pd.read_excel('./datasets_for_project/dataset_7.xlsx')\n",
    "# dataset_7 = dataset_7[~dataset_7['URL'].isin(dataset_chosen_before['url'])]\n",
    "# dataset_7_good = dataset_7[dataset_7['Result']==1][['URL', 'Result']]\n",
    "# dataset_7_good.columns = ['url', 'label']\n",
    "# len(dataset_7_good)"
   ]
  },
  {
   "cell_type": "code",
   "execution_count": 12,
   "metadata": {},
   "outputs": [
    {
     "data": {
      "text/plain": [
       "39996"
      ]
     },
     "execution_count": 12,
     "metadata": {},
     "output_type": "execute_result"
    }
   ],
   "source": [
    "dataset_8 = pd.read_csv('./datasets_for_project/dataset_8.csv')\n",
    "dataset_8 = dataset_8[~dataset_8['domain'].isin(dataset_chosen_before['url'])]\n",
    "dataset_8_bad = dataset_8[dataset_8['label']==0][['domain', 'label']]\n",
    "dataset_8_bad.columns = ['url', 'label']\n",
    "len(dataset_8_bad)"
   ]
  },
  {
   "cell_type": "code",
   "execution_count": 14,
   "metadata": {},
   "outputs": [],
   "source": [
    "# dataset_9 = pd.read_csv('./datasets_for_project/dataset_9.csv')\n",
    "# dataset_9_good = dataset_9[dataset_9['status']=='legitimate'][['url', 'status']]\n",
    "# dataset_9_good.columns = ['url', 'label']\n",
    "# len(dataset_9_good)"
   ]
  },
  {
   "cell_type": "code",
   "execution_count": 14,
   "metadata": {},
   "outputs": [
    {
     "name": "stderr",
     "output_type": "stream",
     "text": [
      "Skipping line 951643: unexpected end of data\n"
     ]
    },
    {
     "name": "stdout",
     "output_type": "stream",
     "text": [
      "5\n"
     ]
    }
   ],
   "source": [
    "dataset_20_test = pd.read_csv('./datasets_for_project/dataset_20/\\\n",
    "Webpages_Classification_test_data.csv/Webpages_Classification_\\\n",
    "test_data.csv',  engine='python')\n",
    "\n",
    "dataset_20_train = pd.read_csv('./datasets_for_project/dataset_20/\\\n",
    "Webpages_Classification_train_data.csv/Webpages_Classification_train_data.csv',  \n",
    "                               engine='python', error_bad_lines=False)\n",
    "\n",
    "dataset_20 = pd.concat(\n",
    "    [dataset_20_train, dataset_20_test], \n",
    "    axis=0\n",
    ").drop(columns=['Unnamed: 0'])\n",
    "\n",
    "dataset_20_bad = dataset_20[dataset_20['label']=='bad'][['url', 'label']]\n",
    "dataset_20_bad = dataset_20_bad[~dataset_20_bad['url'].isin(dataset_chosen_before['url'])]\n",
    "dataset_20_bad = dataset_20_bad.sample(frac=1, replace=False, random_state=41)\n",
    "print(len(dataset_20_bad))"
   ]
  },
  {
   "cell_type": "code",
   "execution_count": 35,
   "metadata": {},
   "outputs": [],
   "source": [
    "from glob import glob as globlin\n",
    "\n",
    "dataframes = []\n",
    "dataset_23_paths = globlin('./datasets_for_project/dataset_23/*.csv')\n",
    "for path in dataset_23_paths:\n",
    "    dataframes.append(pd.read_csv(path).drop(columns=['Unnamed: 0']))\n",
    "dataset_23 = pd.concat(dataframes, axis=0, sort=True)"
   ]
  },
  {
   "cell_type": "code",
   "execution_count": 37,
   "metadata": {},
   "outputs": [
    {
     "name": "stdout",
     "output_type": "stream",
     "text": [
      "0\n"
     ]
    }
   ],
   "source": [
    "dataset_23_bad = dataset_23[dataset_23['label']=='bad'][['url', 'label']]\n",
    "dataset_23_bad = dataset_23_bad[~dataset_23_bad['url'].isin(dataset_chosen_before['url'])]\n",
    "dataset_23_bad = dataset_23_bad.sample(frac=1, replace=False, random_state=41)\n",
    "print(len(dataset_23_bad))"
   ]
  },
  {
   "cell_type": "code",
   "execution_count": 38,
   "metadata": {},
   "outputs": [],
   "source": [
    "dataset_24_legit = pd.read_json('./datasets_for_project/dataset_24/data_legitimate_36400.json')\n",
    "dataset_24_legit.columns = ['URL']\n",
    "dataset_24_legit['Label'] = 0\n",
    "\n",
    "dataset_24_phishing = pd.read_json('./datasets_for_project/dataset_24/data_phishing_37175.json')\n",
    "dataset_24_phishing.columns = ['URL']\n",
    "dataset_24_phishing['Label'] = 1\n",
    "\n",
    "dataset_24 = pd.concat([dataset_24_legit, dataset_24_phishing], axis=0)"
   ]
  },
  {
   "cell_type": "code",
   "execution_count": 45,
   "metadata": {},
   "outputs": [
    {
     "name": "stdout",
     "output_type": "stream",
     "text": [
      "36400\n"
     ]
    }
   ],
   "source": [
    "dataset_24_bad = dataset_24[dataset_24['Label']==0][['URL', 'Label']]\n",
    "dataset_24_bad = dataset_24_bad[~dataset_24_bad['URL'].isin(dataset_chosen_before['url'])]\n",
    "dataset_24_bad = dataset_24_bad.sample(frac=1, replace=False, random_state=41)\n",
    "dataset_24_bad.columns = ['url', 'label']\n",
    "print(len(dataset_24_bad))"
   ]
  },
  {
   "cell_type": "code",
   "execution_count": 46,
   "metadata": {},
   "outputs": [
    {
     "data": {
      "text/html": [
       "<div>\n",
       "<style scoped>\n",
       "    .dataframe tbody tr th:only-of-type {\n",
       "        vertical-align: middle;\n",
       "    }\n",
       "\n",
       "    .dataframe tbody tr th {\n",
       "        vertical-align: top;\n",
       "    }\n",
       "\n",
       "    .dataframe thead th {\n",
       "        text-align: right;\n",
       "    }\n",
       "</style>\n",
       "<table border=\"1\" class=\"dataframe\">\n",
       "  <thead>\n",
       "    <tr style=\"text-align: right;\">\n",
       "      <th></th>\n",
       "      <th>url</th>\n",
       "      <th>label</th>\n",
       "    </tr>\n",
       "  </thead>\n",
       "  <tbody>\n",
       "    <tr>\n",
       "      <td>23829</td>\n",
       "      <td>http://www.urbandictionary.com/define.php?term...</td>\n",
       "      <td>0</td>\n",
       "    </tr>\n",
       "    <tr>\n",
       "      <td>34943</td>\n",
       "      <td>http://www.mycablemart.com/help/hdmi_which_one...</td>\n",
       "      <td>0</td>\n",
       "    </tr>\n",
       "    <tr>\n",
       "      <td>14678</td>\n",
       "      <td>https://www.wellsfargo.com/help/faqs/activity-...</td>\n",
       "      <td>0</td>\n",
       "    </tr>\n",
       "    <tr>\n",
       "      <td>31541</td>\n",
       "      <td>https://ru.wikipedia.org/wiki/Wake-on-LAN</td>\n",
       "      <td>0</td>\n",
       "    </tr>\n",
       "    <tr>\n",
       "      <td>18131</td>\n",
       "      <td>http://ecomputernotes.com/computernetworkingno...</td>\n",
       "      <td>0</td>\n",
       "    </tr>\n",
       "    <tr>\n",
       "      <td>...</td>\n",
       "      <td>...</td>\n",
       "      <td>...</td>\n",
       "    </tr>\n",
       "    <tr>\n",
       "      <td>27064</td>\n",
       "      <td>http://www.dbsalliance.org/site/PageServer?pag...</td>\n",
       "      <td>0</td>\n",
       "    </tr>\n",
       "    <tr>\n",
       "      <td>31597</td>\n",
       "      <td>http://www.thefullwiki.org/MultiMediaCard</td>\n",
       "      <td>0</td>\n",
       "    </tr>\n",
       "    <tr>\n",
       "      <td>20450</td>\n",
       "      <td>http://www.webopedia.com/TERM/L/local_area_net...</td>\n",
       "      <td>0</td>\n",
       "    </tr>\n",
       "    <tr>\n",
       "      <td>931</td>\n",
       "      <td>http://www.dictionary.com/browse/iconic</td>\n",
       "      <td>0</td>\n",
       "    </tr>\n",
       "    <tr>\n",
       "      <td>34752</td>\n",
       "      <td>http://etutorials.org/Networking/Router+firewa...</td>\n",
       "      <td>0</td>\n",
       "    </tr>\n",
       "  </tbody>\n",
       "</table>\n",
       "<p>36400 rows × 2 columns</p>\n",
       "</div>"
      ],
      "text/plain": [
       "                                                     url  label\n",
       "23829  http://www.urbandictionary.com/define.php?term...      0\n",
       "34943  http://www.mycablemart.com/help/hdmi_which_one...      0\n",
       "14678  https://www.wellsfargo.com/help/faqs/activity-...      0\n",
       "31541          https://ru.wikipedia.org/wiki/Wake-on-LAN      0\n",
       "18131  http://ecomputernotes.com/computernetworkingno...      0\n",
       "...                                                  ...    ...\n",
       "27064  http://www.dbsalliance.org/site/PageServer?pag...      0\n",
       "31597          http://www.thefullwiki.org/MultiMediaCard      0\n",
       "20450  http://www.webopedia.com/TERM/L/local_area_net...      0\n",
       "931              http://www.dictionary.com/browse/iconic      0\n",
       "34752  http://etutorials.org/Networking/Router+firewa...      0\n",
       "\n",
       "[36400 rows x 2 columns]"
      ]
     },
     "execution_count": 46,
     "metadata": {},
     "output_type": "execute_result"
    }
   ],
   "source": [
    "dataset_24_bad"
   ]
  },
  {
   "cell_type": "code",
   "execution_count": 47,
   "metadata": {},
   "outputs": [],
   "source": [
    "dataset_15_1 = pd.read_csv('./datasets_for_project/dataset_15/data.csv')\n",
    "dataset_15_2 = pd.read_csv('./datasets_for_project/dataset_15/data2.csv', header=None)\n",
    "dataset_15_2.columns = ['url', 'label']\n",
    "dataset_15 = pd.concat([dataset_15_1, dataset_15_2], axis=0)"
   ]
  },
  {
   "cell_type": "code",
   "execution_count": 48,
   "metadata": {},
   "outputs": [
    {
     "data": {
      "text/html": [
       "<div>\n",
       "<style scoped>\n",
       "    .dataframe tbody tr th:only-of-type {\n",
       "        vertical-align: middle;\n",
       "    }\n",
       "\n",
       "    .dataframe tbody tr th {\n",
       "        vertical-align: top;\n",
       "    }\n",
       "\n",
       "    .dataframe thead th {\n",
       "        text-align: right;\n",
       "    }\n",
       "</style>\n",
       "<table border=\"1\" class=\"dataframe\">\n",
       "  <thead>\n",
       "    <tr style=\"text-align: right;\">\n",
       "      <th></th>\n",
       "      <th>url</th>\n",
       "      <th>label</th>\n",
       "    </tr>\n",
       "  </thead>\n",
       "  <tbody>\n",
       "    <tr>\n",
       "      <td>0</td>\n",
       "      <td>diaryofagameaddict.com</td>\n",
       "      <td>bad</td>\n",
       "    </tr>\n",
       "    <tr>\n",
       "      <td>1</td>\n",
       "      <td>espdesign.com.au</td>\n",
       "      <td>bad</td>\n",
       "    </tr>\n",
       "    <tr>\n",
       "      <td>2</td>\n",
       "      <td>iamagameaddict.com</td>\n",
       "      <td>bad</td>\n",
       "    </tr>\n",
       "    <tr>\n",
       "      <td>3</td>\n",
       "      <td>kalantzis.net</td>\n",
       "      <td>bad</td>\n",
       "    </tr>\n",
       "    <tr>\n",
       "      <td>4</td>\n",
       "      <td>slightlyoffcenter.net</td>\n",
       "      <td>bad</td>\n",
       "    </tr>\n",
       "    <tr>\n",
       "      <td>...</td>\n",
       "      <td>...</td>\n",
       "      <td>...</td>\n",
       "    </tr>\n",
       "    <tr>\n",
       "      <td>32871</td>\n",
       "      <td>23.227.196.215/</td>\n",
       "      <td>bad</td>\n",
       "    </tr>\n",
       "    <tr>\n",
       "      <td>32872</td>\n",
       "      <td>apple-checker.org/</td>\n",
       "      <td>bad</td>\n",
       "    </tr>\n",
       "    <tr>\n",
       "      <td>32873</td>\n",
       "      <td>apple-iclods.org/</td>\n",
       "      <td>bad</td>\n",
       "    </tr>\n",
       "    <tr>\n",
       "      <td>32874</td>\n",
       "      <td>apple-uptoday.org/</td>\n",
       "      <td>bad</td>\n",
       "    </tr>\n",
       "    <tr>\n",
       "      <td>32875</td>\n",
       "      <td>apple-search.info</td>\n",
       "      <td>bad</td>\n",
       "    </tr>\n",
       "  </tbody>\n",
       "</table>\n",
       "<p>453340 rows × 2 columns</p>\n",
       "</div>"
      ],
      "text/plain": [
       "                          url label\n",
       "0      diaryofagameaddict.com   bad\n",
       "1            espdesign.com.au   bad\n",
       "2          iamagameaddict.com   bad\n",
       "3               kalantzis.net   bad\n",
       "4       slightlyoffcenter.net   bad\n",
       "...                       ...   ...\n",
       "32871         23.227.196.215/   bad\n",
       "32872      apple-checker.org/   bad\n",
       "32873       apple-iclods.org/   bad\n",
       "32874      apple-uptoday.org/   bad\n",
       "32875       apple-search.info   bad\n",
       "\n",
       "[453340 rows x 2 columns]"
      ]
     },
     "execution_count": 48,
     "metadata": {},
     "output_type": "execute_result"
    }
   ],
   "source": [
    "dataset_15"
   ]
  },
  {
   "cell_type": "code",
   "execution_count": 49,
   "metadata": {},
   "outputs": [
    {
     "name": "stdout",
     "output_type": "stream",
     "text": [
      "0\n"
     ]
    }
   ],
   "source": [
    "dataset_15_bad = dataset_15[dataset_15['label']=='bad'][['url', 'label']]\n",
    "dataset_15_bad = dataset_15_bad[~dataset_15_bad['url'].isin(dataset_chosen_before['url'])]\n",
    "dataset_15_bad = dataset_15_bad.sample(frac=1, replace=False, random_state=41)\n",
    "print(len(dataset_15_bad))"
   ]
  },
  {
   "cell_type": "code",
   "execution_count": 50,
   "metadata": {},
   "outputs": [],
   "source": [
    "dataset_bad = pd.concat([dataset_24_bad,\n",
    "                          dataset_8_bad], axis=0).drop_duplicates()"
   ]
  },
  {
   "cell_type": "code",
   "execution_count": 51,
   "metadata": {},
   "outputs": [
    {
     "data": {
      "text/plain": [
       "60456"
      ]
     },
     "execution_count": 51,
     "metadata": {},
     "output_type": "execute_result"
    }
   ],
   "source": [
    "len(dataset_bad)"
   ]
  },
  {
   "cell_type": "code",
   "execution_count": 54,
   "metadata": {},
   "outputs": [
    {
     "data": {
      "text/html": [
       "<div>\n",
       "<style scoped>\n",
       "    .dataframe tbody tr th:only-of-type {\n",
       "        vertical-align: middle;\n",
       "    }\n",
       "\n",
       "    .dataframe tbody tr th {\n",
       "        vertical-align: top;\n",
       "    }\n",
       "\n",
       "    .dataframe thead th {\n",
       "        text-align: right;\n",
       "    }\n",
       "</style>\n",
       "<table border=\"1\" class=\"dataframe\">\n",
       "  <thead>\n",
       "    <tr style=\"text-align: right;\">\n",
       "      <th></th>\n",
       "      <th>url</th>\n",
       "      <th>label</th>\n",
       "    </tr>\n",
       "  </thead>\n",
       "  <tbody>\n",
       "    <tr>\n",
       "      <td>23829</td>\n",
       "      <td>http://www.urbandictionary.com/define.php?term...</td>\n",
       "      <td>bad</td>\n",
       "    </tr>\n",
       "    <tr>\n",
       "      <td>34943</td>\n",
       "      <td>http://www.mycablemart.com/help/hdmi_which_one...</td>\n",
       "      <td>bad</td>\n",
       "    </tr>\n",
       "    <tr>\n",
       "      <td>14678</td>\n",
       "      <td>https://www.wellsfargo.com/help/faqs/activity-...</td>\n",
       "      <td>bad</td>\n",
       "    </tr>\n",
       "    <tr>\n",
       "      <td>31541</td>\n",
       "      <td>https://ru.wikipedia.org/wiki/Wake-on-LAN</td>\n",
       "      <td>bad</td>\n",
       "    </tr>\n",
       "    <tr>\n",
       "      <td>18131</td>\n",
       "      <td>http://ecomputernotes.com/computernetworkingno...</td>\n",
       "      <td>bad</td>\n",
       "    </tr>\n",
       "    <tr>\n",
       "      <td>...</td>\n",
       "      <td>...</td>\n",
       "      <td>...</td>\n",
       "    </tr>\n",
       "    <tr>\n",
       "      <td>95899</td>\n",
       "      <td>www.geocities.com/SiliconValley/Lab/7378/fisch...</td>\n",
       "      <td>bad</td>\n",
       "    </tr>\n",
       "    <tr>\n",
       "      <td>95901</td>\n",
       "      <td>sourceforge.net/projects/froofyjit/</td>\n",
       "      <td>bad</td>\n",
       "    </tr>\n",
       "    <tr>\n",
       "      <td>95902</td>\n",
       "      <td>www.angelfire.com/tx4/PolkLonghorns/</td>\n",
       "      <td>bad</td>\n",
       "    </tr>\n",
       "    <tr>\n",
       "      <td>95903</td>\n",
       "      <td>www.freewebs.com/aylesburyscrabble/index.htm</td>\n",
       "      <td>bad</td>\n",
       "    </tr>\n",
       "    <tr>\n",
       "      <td>95905</td>\n",
       "      <td>www.freewebs.com/ryanrules2/</td>\n",
       "      <td>bad</td>\n",
       "    </tr>\n",
       "  </tbody>\n",
       "</table>\n",
       "<p>60456 rows × 2 columns</p>\n",
       "</div>"
      ],
      "text/plain": [
       "                                                     url label\n",
       "23829  http://www.urbandictionary.com/define.php?term...   bad\n",
       "34943  http://www.mycablemart.com/help/hdmi_which_one...   bad\n",
       "14678  https://www.wellsfargo.com/help/faqs/activity-...   bad\n",
       "31541          https://ru.wikipedia.org/wiki/Wake-on-LAN   bad\n",
       "18131  http://ecomputernotes.com/computernetworkingno...   bad\n",
       "...                                                  ...   ...\n",
       "95899  www.geocities.com/SiliconValley/Lab/7378/fisch...   bad\n",
       "95901                sourceforge.net/projects/froofyjit/   bad\n",
       "95902               www.angelfire.com/tx4/PolkLonghorns/   bad\n",
       "95903       www.freewebs.com/aylesburyscrabble/index.htm   bad\n",
       "95905                       www.freewebs.com/ryanrules2/   bad\n",
       "\n",
       "[60456 rows x 2 columns]"
      ]
     },
     "execution_count": 54,
     "metadata": {},
     "output_type": "execute_result"
    }
   ],
   "source": [
    "dataset_bad"
   ]
  },
  {
   "cell_type": "code",
   "execution_count": 56,
   "metadata": {},
   "outputs": [],
   "source": [
    "# dataset_bad.to_csv('./data_construction/malicious_urls_2.csv')"
   ]
  },
  {
   "cell_type": "code",
   "execution_count": null,
   "metadata": {},
   "outputs": [],
   "source": []
  }
 ],
 "metadata": {
  "kernelspec": {
   "display_name": "Python 3",
   "language": "python",
   "name": "python3"
  },
  "language_info": {
   "codemirror_mode": {
    "name": "ipython",
    "version": 3
   },
   "file_extension": ".py",
   "mimetype": "text/x-python",
   "name": "python",
   "nbconvert_exporter": "python",
   "pygments_lexer": "ipython3",
   "version": "3.7.6"
  },
  "toc": {
   "base_numbering": 1,
   "nav_menu": {},
   "number_sections": true,
   "sideBar": false,
   "skip_h1_title": false,
   "title_cell": "Table of Contents",
   "title_sidebar": "Contents",
   "toc_cell": false,
   "toc_position": {
    "height": "47.7167px",
    "left": "758.667px",
    "top": "135.7px",
    "width": "321.333px"
   },
   "toc_section_display": true,
   "toc_window_display": true
  }
 },
 "nbformat": 4,
 "nbformat_minor": 4
}
